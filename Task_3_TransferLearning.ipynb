{
  "nbformat": 4,
  "nbformat_minor": 0,
  "metadata": {
    "colab": {
      "name": "Task 3: TransferLearning.ipynb",
      "provenance": [],
      "collapsed_sections": []
    },
    "kernelspec": {
      "name": "python3",
      "display_name": "Python 3"
    },
    "accelerator": "GPU"
  },
  "cells": [
    {
      "cell_type": "markdown",
      "metadata": {
        "id": "on-5gF6wIT--",
        "colab_type": "text"
      },
      "source": [
        "Import MNIST Dataset"
      ]
    },
    {
      "cell_type": "code",
      "metadata": {
        "id": "1CzTIa90Ikoi",
        "colab_type": "code",
        "colab": {}
      },
      "source": [
        "from __future__ import print_function\n",
        "import tensorflow as tf\n",
        "import keras\n",
        "from keras.datasets import cifar10\n",
        "from keras.preprocessing.image import ImageDataGenerator\n",
        "from keras.models import Sequential\n",
        "from keras.layers import Dense, Dropout, Activation, Flatten\n",
        "from keras.layers import Conv2D, MaxPooling2D\n",
        "from keras.models import Model\n",
        "from keras.datasets import fashion_mnist\n",
        "from keras.utils import to_categorical\n",
        "import matplotlib.pyplot as plt\n",
        "%matplotlib inline\n",
        "#plt.rcParams['figure.figsize'] = (16.0, 9.0)\n",
        "import numpy as np\n",
        "# Seed\n",
        "np.random.seed(1)"
      ],
      "execution_count": 2,
      "outputs": []
    },
    {
      "cell_type": "code",
      "metadata": {
        "id": "-PTWl-JiIJ3f",
        "colab_type": "code",
        "colab": {
          "base_uri": "https://localhost:8080/",
          "height": 51
        },
        "outputId": "37a12d2f-56ef-4af7-b482-12284e7d888e"
      },
      "source": [
        "(x_train, y_train), (x_test, y_test) = tf.keras.datasets.mnist.load_data()"
      ],
      "execution_count": 3,
      "outputs": [
        {
          "output_type": "stream",
          "text": [
            "Downloading data from https://storage.googleapis.com/tensorflow/tf-keras-datasets/mnist.npz\n",
            "11493376/11490434 [==============================] - 0s 0us/step\n"
          ],
          "name": "stdout"
        }
      ]
    },
    {
      "cell_type": "markdown",
      "metadata": {
        "id": "1SCPs6444KXY",
        "colab_type": "text"
      },
      "source": [
        "**3.1 Same Distribution**\n",
        "\n",
        "1. Split the MNIST dataset, such that 7 classes are the source domain and the other 3 classes are the target domain.\n",
        "2. Start with the source domain data set and train a model on it.\n",
        "3. From the trained model, cut off the final classification layer and replace it with a new layer for the target domain classes. For now, keep all layers trainable.\n",
        "4. Now train this model on the target domain data set. For comparison, also train a freshly initialized model on the target domain data set.\n",
        "5. How well did the transfer learning work, compared to training on the target data set from scratch?\n",
        "\n"
      ]
    },
    {
      "cell_type": "code",
      "metadata": {
        "id": "QNjGXDepWbWs",
        "colab_type": "code",
        "colab": {}
      },
      "source": [
        "num_digits_to_classify = 7\n",
        "\n",
        "source_train_mask06 = np.isin(y_train,[0,1,2,3,4,5,6])\n",
        "source_test_mask06 = np.isin(y_test,[0,1,2,3,4,5,6])\n",
        "\n",
        "\n",
        "x_train06, y_train06 = x_train[source_train_mask06], y_train[source_train_mask06]\n",
        "x_test06, y_test06 = x_test[source_test_mask06], y_test[source_test_mask06]\n",
        "\n",
        "\n",
        "\n",
        "#x_train06, y_train06 = x_train[source_train_mask06], y_train[source_train_mask06]\n",
        "#x_train79, y_train79 = x_train[domain_train_mask79], y_train[domain_train_mask79]\n",
        "\n",
        "\n",
        "#x_test06, y_test06 = x_train[source_test_mask06], y_train[source_test_mask06]\n",
        "#x_test79, y_test79 = x_train[domain_test_mask79], y_train[domain_test_mask79]\n",
        "\n",
        "\n"
      ],
      "execution_count": 8,
      "outputs": []
    },
    {
      "cell_type": "code",
      "metadata": {
        "id": "bymSIGdEZW88",
        "colab_type": "code",
        "colab": {}
      },
      "source": [
        "# Reshaping the array to 4-dims so that it can work with the Keras API\n",
        "x_train06 = x_train06.reshape(x_train06.shape[0], 28, 28, 1)\n",
        "x_test06 = x_test06.reshape(x_test06.shape[0], 28, 28, 1)\n",
        "input_shape = (28, 28, 1)\n",
        "# Making sure that the values are float so that we can get decimal points after division\n",
        "x_train06 = x_train06.astype('float32')\n",
        "x_test06 = x_test06.astype('float32')\n",
        "# Normalizing the RGB codes by dividing it to the max RGB value.\n",
        "x_train06 /= 255\n",
        "x_test06 /= 255\n",
        "\n",
        "\n",
        "\n"
      ],
      "execution_count": 9,
      "outputs": []
    },
    {
      "cell_type": "code",
      "metadata": {
        "id": "m8X4vd-FZsga",
        "colab_type": "code",
        "colab": {
          "base_uri": "https://localhost:8080/",
          "height": 1000
        },
        "outputId": "b9ffa653-4abd-41dc-9ab4-13841c85df84"
      },
      "source": [
        "def create_model():\n",
        "    model = Sequential()\n",
        "    model.add(Conv2D(28, kernel_size=(3,3), activation='relu', input_shape=input_shape))\n",
        "    model.add(MaxPooling2D(pool_size=(2, 2)))\n",
        "    model.add(Flatten()) # Flattening the 2D arrays for fully connected layers\n",
        "    model.add(Dense(128, activation='relu'))\n",
        "    model.add(Dropout(0.2))\n",
        "    model.add(Dense(num_digits_to_classify,activation='softmax'))\n",
        "\n",
        "    model.compile(optimizer='adam', \n",
        "                  loss='sparse_categorical_crossentropy', \n",
        "                  metrics=['accuracy'])\n",
        "    return model\n",
        "\n",
        "model = create_model()\n",
        "model.summary()\n",
        "model.fit(x=x_train06,y=y_train06, epochs=20)\n",
        "history_model = model.fit(x_train06, y_train06, epochs=20, batch_size=10, validation_data=(x_test06, y_test06), shuffle=True)\n",
        "\n",
        "\n",
        "\n"
      ],
      "execution_count": 10,
      "outputs": [
        {
          "output_type": "stream",
          "text": [
            "Model: \"sequential\"\n",
            "_________________________________________________________________\n",
            "Layer (type)                 Output Shape              Param #   \n",
            "=================================================================\n",
            "conv2d (Conv2D)              (None, 26, 26, 28)        280       \n",
            "_________________________________________________________________\n",
            "max_pooling2d (MaxPooling2D) (None, 13, 13, 28)        0         \n",
            "_________________________________________________________________\n",
            "flatten (Flatten)            (None, 4732)              0         \n",
            "_________________________________________________________________\n",
            "dense (Dense)                (None, 128)               605824    \n",
            "_________________________________________________________________\n",
            "dropout (Dropout)            (None, 128)               0         \n",
            "_________________________________________________________________\n",
            "dense_1 (Dense)              (None, 7)                 903       \n",
            "=================================================================\n",
            "Total params: 607,007\n",
            "Trainable params: 607,007\n",
            "Non-trainable params: 0\n",
            "_________________________________________________________________\n",
            "Epoch 1/20\n",
            "1311/1311 [==============================] - 3s 2ms/step - loss: 0.1126 - accuracy: 0.9659\n",
            "Epoch 2/20\n",
            "1311/1311 [==============================] - 3s 2ms/step - loss: 0.0337 - accuracy: 0.9894\n",
            "Epoch 3/20\n",
            "1311/1311 [==============================] - 3s 2ms/step - loss: 0.0218 - accuracy: 0.9930\n",
            "Epoch 4/20\n",
            "1311/1311 [==============================] - 3s 2ms/step - loss: 0.0163 - accuracy: 0.9951\n",
            "Epoch 5/20\n",
            "1311/1311 [==============================] - 3s 2ms/step - loss: 0.0122 - accuracy: 0.9959\n",
            "Epoch 6/20\n",
            "1311/1311 [==============================] - 3s 3ms/step - loss: 0.0084 - accuracy: 0.9972\n",
            "Epoch 7/20\n",
            "1311/1311 [==============================] - 3s 3ms/step - loss: 0.0076 - accuracy: 0.9973\n",
            "Epoch 8/20\n",
            "1311/1311 [==============================] - 3s 2ms/step - loss: 0.0065 - accuracy: 0.9980\n",
            "Epoch 9/20\n",
            "1311/1311 [==============================] - 3s 2ms/step - loss: 0.0046 - accuracy: 0.9984\n",
            "Epoch 10/20\n",
            "1311/1311 [==============================] - 3s 2ms/step - loss: 0.0047 - accuracy: 0.9985\n",
            "Epoch 11/20\n",
            "1311/1311 [==============================] - 3s 2ms/step - loss: 0.0037 - accuracy: 0.9990\n",
            "Epoch 12/20\n",
            "1311/1311 [==============================] - 3s 2ms/step - loss: 0.0029 - accuracy: 0.9990\n",
            "Epoch 13/20\n",
            "1311/1311 [==============================] - 3s 2ms/step - loss: 0.0044 - accuracy: 0.9987\n",
            "Epoch 14/20\n",
            "1311/1311 [==============================] - 3s 2ms/step - loss: 0.0033 - accuracy: 0.9991\n",
            "Epoch 15/20\n",
            "1311/1311 [==============================] - 3s 2ms/step - loss: 0.0026 - accuracy: 0.9990\n",
            "Epoch 16/20\n",
            "1311/1311 [==============================] - 3s 2ms/step - loss: 0.0027 - accuracy: 0.9991\n",
            "Epoch 17/20\n",
            "1311/1311 [==============================] - 3s 2ms/step - loss: 0.0029 - accuracy: 0.9990\n",
            "Epoch 18/20\n",
            "1311/1311 [==============================] - 3s 2ms/step - loss: 0.0026 - accuracy: 0.9991\n",
            "Epoch 19/20\n",
            "1311/1311 [==============================] - 3s 2ms/step - loss: 0.0015 - accuracy: 0.9995\n",
            "Epoch 20/20\n",
            "1311/1311 [==============================] - 3s 2ms/step - loss: 0.0021 - accuracy: 0.9992\n",
            "Epoch 1/20\n",
            "4194/4194 [==============================] - 10s 2ms/step - loss: 0.0057 - accuracy: 0.9981 - val_loss: 0.0402 - val_accuracy: 0.9920\n",
            "Epoch 2/20\n",
            "4194/4194 [==============================] - 11s 3ms/step - loss: 0.0047 - accuracy: 0.9985 - val_loss: 0.0336 - val_accuracy: 0.9931\n",
            "Epoch 3/20\n",
            "4194/4194 [==============================] - 11s 3ms/step - loss: 0.0051 - accuracy: 0.9983 - val_loss: 0.0523 - val_accuracy: 0.9906\n",
            "Epoch 4/20\n",
            "4194/4194 [==============================] - 11s 3ms/step - loss: 0.0043 - accuracy: 0.9985 - val_loss: 0.0364 - val_accuracy: 0.9933\n",
            "Epoch 5/20\n",
            "4194/4194 [==============================] - 11s 3ms/step - loss: 0.0040 - accuracy: 0.9986 - val_loss: 0.0318 - val_accuracy: 0.9938\n",
            "Epoch 6/20\n",
            "4194/4194 [==============================] - 11s 3ms/step - loss: 0.0040 - accuracy: 0.9987 - val_loss: 0.0369 - val_accuracy: 0.9930\n",
            "Epoch 7/20\n",
            "4194/4194 [==============================] - 11s 3ms/step - loss: 0.0031 - accuracy: 0.9988 - val_loss: 0.0342 - val_accuracy: 0.9934\n",
            "Epoch 8/20\n",
            "4194/4194 [==============================] - 11s 3ms/step - loss: 0.0027 - accuracy: 0.9992 - val_loss: 0.0508 - val_accuracy: 0.9923\n",
            "Epoch 9/20\n",
            "4194/4194 [==============================] - 11s 3ms/step - loss: 0.0035 - accuracy: 0.9988 - val_loss: 0.0445 - val_accuracy: 0.9918\n",
            "Epoch 10/20\n",
            "4194/4194 [==============================] - 10s 3ms/step - loss: 0.0037 - accuracy: 0.9985 - val_loss: 0.0522 - val_accuracy: 0.9924\n",
            "Epoch 11/20\n",
            "4194/4194 [==============================] - 11s 3ms/step - loss: 0.0030 - accuracy: 0.9991 - val_loss: 0.0368 - val_accuracy: 0.9941\n",
            "Epoch 12/20\n",
            "4194/4194 [==============================] - 11s 3ms/step - loss: 0.0034 - accuracy: 0.9989 - val_loss: 0.0462 - val_accuracy: 0.9928\n",
            "Epoch 13/20\n",
            "4194/4194 [==============================] - 11s 3ms/step - loss: 0.0034 - accuracy: 0.9992 - val_loss: 0.0406 - val_accuracy: 0.9934\n",
            "Epoch 14/20\n",
            "4194/4194 [==============================] - 10s 2ms/step - loss: 0.0032 - accuracy: 0.9990 - val_loss: 0.0472 - val_accuracy: 0.9937\n",
            "Epoch 15/20\n",
            "4194/4194 [==============================] - 10s 2ms/step - loss: 0.0027 - accuracy: 0.9992 - val_loss: 0.0593 - val_accuracy: 0.9934\n",
            "Epoch 16/20\n",
            "4194/4194 [==============================] - 10s 2ms/step - loss: 0.0030 - accuracy: 0.9992 - val_loss: 0.0778 - val_accuracy: 0.9918\n",
            "Epoch 17/20\n",
            "4194/4194 [==============================] - 10s 2ms/step - loss: 0.0038 - accuracy: 0.9990 - val_loss: 0.0499 - val_accuracy: 0.9931\n",
            "Epoch 18/20\n",
            "4194/4194 [==============================] - 10s 2ms/step - loss: 0.0013 - accuracy: 0.9996 - val_loss: 0.0549 - val_accuracy: 0.9930\n",
            "Epoch 19/20\n",
            "4194/4194 [==============================] - 10s 2ms/step - loss: 0.0026 - accuracy: 0.9992 - val_loss: 0.0755 - val_accuracy: 0.9918\n",
            "Epoch 20/20\n",
            "4194/4194 [==============================] - 11s 3ms/step - loss: 0.0024 - accuracy: 0.9994 - val_loss: 0.0562 - val_accuracy: 0.9937\n"
          ],
          "name": "stdout"
        }
      ]
    },
    {
      "cell_type": "code",
      "metadata": {
        "id": "qcR0UKVER7vm",
        "colab_type": "code",
        "colab": {
          "base_uri": "https://localhost:8080/",
          "height": 295
        },
        "outputId": "ea174de0-7b65-478f-9bea-07a8f26f3a77"
      },
      "source": [
        "# summarize history for accuracy\n",
        "plt.plot(history_model.history['accuracy'])\n",
        "plt.plot(history_model.history['val_accuracy'])\n",
        "plt.title('model accuracy')\n",
        "plt.ylabel('accuracy')\n",
        "plt.xlabel('epoch')\n",
        "plt.legend(['train', 'test'], loc='upper left')\n",
        "plt.show()"
      ],
      "execution_count": 12,
      "outputs": [
        {
          "output_type": "display_data",
          "data": {
            "image/png": "[encoded data removed]",
            "text/plain": [
              "<Figure size 432x288 with 1 Axes>"
            ]
          },
          "metadata": {
            "tags": [],
            "needs_background": "light"
          }
        }
      ]
    },
    {
      "cell_type": "code",
      "metadata": {
        "id": "oPTXxLSH_hpH",
        "colab_type": "code",
        "colab": {}
      },
      "source": [
        "model.save('model.h5')"
      ],
      "execution_count": 13,
      "outputs": []
    },
    {
      "cell_type": "markdown",
      "metadata": {
        "id": "kGyYHrvD_2gg",
        "colab_type": "text"
      },
      "source": [
        "Test how model trained on 0-6 classifies 7-9."
      ]
    },
    {
      "cell_type": "code",
      "metadata": {
        "id": "IeK3bHhBWGtT",
        "colab_type": "code",
        "colab": {}
      },
      "source": [
        "target_train_mask79 = np.isin(y_train,[7,8,9])\n",
        "target_test_mask79 = np.isin(y_test,[7,8,9])\n",
        "\n",
        "\n",
        "x_train79, y_train79 = x_train[target_train_mask79], y_train[target_train_mask79]\n",
        "x_test79, y_test79 = x_test[target_test_mask79], y_test[target_test_mask79]\n",
        "\n",
        "\n",
        "\n",
        "x_train79 = x_train79.reshape(x_train79.shape[0], 28, 28, 1)\n",
        "x_test79 = x_test79.reshape(x_test79.shape[0], 28, 28, 1)\n",
        "input_shape = (28, 28, 1)\n",
        "# Making sure that the values are float so that we can get decimal points after division\n",
        "x_train79 = x_train79.astype('float32')\n",
        "x_test79 = x_test79.astype('float32')\n",
        "# Normalizing the RGB codes by dividing it to the max RGB value.\n",
        "x_train79 /= 255\n",
        "x_test79 /= 255\n",
        "\n",
        "y_train79 -= 7\n",
        "y_test79 -= 7"
      ],
      "execution_count": 14,
      "outputs": []
    },
    {
      "cell_type": "code",
      "metadata": {
        "id": "GzB7MLDNVeP5",
        "colab_type": "code",
        "colab": {
          "base_uri": "https://localhost:8080/",
          "height": 1000
        },
        "outputId": "c8831fd8-1257-44e4-d7e4-3324a55d4dbf"
      },
      "source": [
        "newModel = Model(inputs=model.inputs, outputs=model.layers[-2].output)\n",
        "\n",
        "\n",
        "flat1 = Flatten()(model.layers[-1].output)\n",
        "#class1 = Dense(1024, activation='relu')(flat1)\n",
        "output = Dense(3, activation='softmax')(flat1)\n",
        "# define new model\n",
        "newModel = Model(inputs=model.inputs, outputs=output)\n",
        "# summarize\n",
        "newModel.summary()\n",
        "newModel.compile(optimizer='adam', \n",
        "                  loss='sparse_categorical_crossentropy', \n",
        "                  metrics=['accuracy'])\n",
        "\n",
        "newModel.fit(x=x_train79,y=y_train79, epochs=20)\n",
        "history_newmodel = newModel.fit(x_train79, y_train79, epochs=20, batch_size=10,validation_data=(x_test79, y_test79), shuffle=True)\n"
      ],
      "execution_count": 16,
      "outputs": [
        {
          "output_type": "stream",
          "text": [
            "Model: \"functional_7\"\n",
            "_________________________________________________________________\n",
            "Layer (type)                 Output Shape              Param #   \n",
            "=================================================================\n",
            "conv2d_input (InputLayer)    [(None, 28, 28, 1)]       0         \n",
            "_________________________________________________________________\n",
            "conv2d (Conv2D)              (None, 26, 26, 28)        280       \n",
            "_________________________________________________________________\n",
            "max_pooling2d (MaxPooling2D) (None, 13, 13, 28)        0         \n",
            "_________________________________________________________________\n",
            "flatten (Flatten)            (None, 4732)              0         \n",
            "_________________________________________________________________\n",
            "dense (Dense)                (None, 128)               605824    \n",
            "_________________________________________________________________\n",
            "dropout (Dropout)            (None, 128)               0         \n",
            "_________________________________________________________________\n",
            "dense_1 (Dense)              (None, 7)                 903       \n",
            "_________________________________________________________________\n",
            "flatten_2 (Flatten)          (None, 7)                 0         \n",
            "_________________________________________________________________\n",
            "dense_3 (Dense)              (None, 3)                 24        \n",
            "=================================================================\n",
            "Total params: 607,031\n",
            "Trainable params: 607,031\n",
            "Non-trainable params: 0\n",
            "_________________________________________________________________\n",
            "Epoch 1/20\n",
            "565/565 [==============================] - 1s 2ms/step - loss: 0.9060 - accuracy: 0.4719\n",
            "Epoch 2/20\n",
            "565/565 [==============================] - 1s 2ms/step - loss: 0.6672 - accuracy: 0.6664\n",
            "Epoch 3/20\n",
            "565/565 [==============================] - 1s 2ms/step - loss: 0.5785 - accuracy: 0.6700\n",
            "Epoch 4/20\n",
            "565/565 [==============================] - 1s 2ms/step - loss: 0.5351 - accuracy: 0.6696\n",
            "Epoch 5/20\n",
            "565/565 [==============================] - 1s 2ms/step - loss: 0.5129 - accuracy: 0.6743\n",
            "Epoch 6/20\n",
            "565/565 [==============================] - 1s 2ms/step - loss: 0.4968 - accuracy: 0.6656\n",
            "Epoch 7/20\n",
            "565/565 [==============================] - 1s 3ms/step - loss: 0.4885 - accuracy: 0.6736\n",
            "Epoch 8/20\n",
            "565/565 [==============================] - 1s 2ms/step - loss: 0.4811 - accuracy: 0.6729\n",
            "Epoch 9/20\n",
            "565/565 [==============================] - 1s 3ms/step - loss: 0.4755 - accuracy: 0.6759\n",
            "Epoch 10/20\n",
            "565/565 [==============================] - 1s 3ms/step - loss: 0.4732 - accuracy: 0.6748\n",
            "Epoch 11/20\n",
            "565/565 [==============================] - 1s 3ms/step - loss: 0.2817 - accuracy: 0.9115\n",
            "Epoch 12/20\n",
            "565/565 [==============================] - 1s 2ms/step - loss: 0.1024 - accuracy: 0.9875\n",
            "Epoch 13/20\n",
            "565/565 [==============================] - 1s 2ms/step - loss: 0.0637 - accuracy: 0.9919\n",
            "Epoch 14/20\n",
            "565/565 [==============================] - 1s 3ms/step - loss: 0.0443 - accuracy: 0.9945\n",
            "Epoch 15/20\n",
            "565/565 [==============================] - 1s 3ms/step - loss: 0.0333 - accuracy: 0.9952\n",
            "Epoch 16/20\n",
            "565/565 [==============================] - 1s 2ms/step - loss: 0.0275 - accuracy: 0.9961\n",
            "Epoch 17/20\n",
            "565/565 [==============================] - 1s 2ms/step - loss: 0.0226 - accuracy: 0.9968\n",
            "Epoch 18/20\n",
            "565/565 [==============================] - 1s 2ms/step - loss: 0.0190 - accuracy: 0.9968\n",
            "Epoch 19/20\n",
            "565/565 [==============================] - 1s 2ms/step - loss: 0.0157 - accuracy: 0.9973\n",
            "Epoch 20/20\n",
            "565/565 [==============================] - 1s 2ms/step - loss: 0.0138 - accuracy: 0.9981\n",
            "Epoch 1/20\n",
            "1807/1807 [==============================] - 5s 3ms/step - loss: 0.0150 - accuracy: 0.9973 - val_loss: 0.0204 - val_accuracy: 0.9947\n",
            "Epoch 2/20\n",
            "1807/1807 [==============================] - 5s 3ms/step - loss: 0.0152 - accuracy: 0.9973 - val_loss: 0.0171 - val_accuracy: 0.9963\n",
            "Epoch 3/20\n",
            "1807/1807 [==============================] - 5s 3ms/step - loss: 0.0128 - accuracy: 0.9979 - val_loss: 0.0232 - val_accuracy: 0.9954\n",
            "Epoch 4/20\n",
            "1807/1807 [==============================] - 5s 3ms/step - loss: 0.0125 - accuracy: 0.9977 - val_loss: 0.0245 - val_accuracy: 0.9957\n",
            "Epoch 5/20\n",
            "1807/1807 [==============================] - 5s 3ms/step - loss: 0.0108 - accuracy: 0.9981 - val_loss: 0.0275 - val_accuracy: 0.9940\n",
            "Epoch 6/20\n",
            "1807/1807 [==============================] - 5s 3ms/step - loss: 0.0106 - accuracy: 0.9981 - val_loss: 0.0334 - val_accuracy: 0.9927\n",
            "Epoch 7/20\n",
            "1807/1807 [==============================] - 5s 3ms/step - loss: 0.0109 - accuracy: 0.9980 - val_loss: 0.0354 - val_accuracy: 0.9927\n",
            "Epoch 8/20\n",
            "1807/1807 [==============================] - 5s 3ms/step - loss: 0.0080 - accuracy: 0.9986 - val_loss: 0.0387 - val_accuracy: 0.9924\n",
            "Epoch 9/20\n",
            "1807/1807 [==============================] - 5s 3ms/step - loss: 0.0100 - accuracy: 0.9983 - val_loss: 0.0257 - val_accuracy: 0.9934\n",
            "Epoch 10/20\n",
            "1807/1807 [==============================] - 5s 3ms/step - loss: 0.0080 - accuracy: 0.9986 - val_loss: 0.0322 - val_accuracy: 0.9937\n",
            "Epoch 11/20\n",
            "1807/1807 [==============================] - 5s 3ms/step - loss: 0.0098 - accuracy: 0.9982 - val_loss: 0.0342 - val_accuracy: 0.9944\n",
            "Epoch 12/20\n",
            "1807/1807 [==============================] - 5s 3ms/step - loss: 0.0094 - accuracy: 0.9982 - val_loss: 0.0276 - val_accuracy: 0.9944\n",
            "Epoch 13/20\n",
            "1807/1807 [==============================] - 5s 3ms/step - loss: 0.0068 - accuracy: 0.9988 - val_loss: 0.0387 - val_accuracy: 0.9917\n",
            "Epoch 14/20\n",
            "1807/1807 [==============================] - 5s 3ms/step - loss: 0.0070 - accuracy: 0.9987 - val_loss: 0.0377 - val_accuracy: 0.9927\n",
            "Epoch 15/20\n",
            "1807/1807 [==============================] - 5s 3ms/step - loss: 0.0066 - accuracy: 0.9989 - val_loss: 0.0316 - val_accuracy: 0.9947\n",
            "Epoch 16/20\n",
            "1807/1807 [==============================] - 5s 3ms/step - loss: 0.0070 - accuracy: 0.9986 - val_loss: 0.0377 - val_accuracy: 0.9934\n",
            "Epoch 17/20\n",
            "1807/1807 [==============================] - 5s 3ms/step - loss: 0.0080 - accuracy: 0.9985 - val_loss: 0.0290 - val_accuracy: 0.9947\n",
            "Epoch 18/20\n",
            "1807/1807 [==============================] - 5s 3ms/step - loss: 0.0057 - accuracy: 0.9992 - val_loss: 0.0412 - val_accuracy: 0.9927\n",
            "Epoch 19/20\n",
            "1807/1807 [==============================] - 5s 3ms/step - loss: 0.0063 - accuracy: 0.9989 - val_loss: 0.0347 - val_accuracy: 0.9934\n",
            "Epoch 20/20\n",
            "1807/1807 [==============================] - 5s 3ms/step - loss: 0.0053 - accuracy: 0.9989 - val_loss: 0.0380 - val_accuracy: 0.9944\n"
          ],
          "name": "stdout"
        }
      ]
    },
    {
      "cell_type": "code",
      "metadata": {
        "id": "6u-p_pQaFsJy",
        "colab_type": "code",
        "colab": {}
      },
      "source": [
        "newModel.save('newModel.h5')"
      ],
      "execution_count": 17,
      "outputs": []
    },
    {
      "cell_type": "code",
      "metadata": {
        "id": "GYnAzV0YVKMW",
        "colab_type": "code",
        "colab": {
          "base_uri": "https://localhost:8080/",
          "height": 295
        },
        "outputId": "87250c03-befb-40a4-ea7b-42083c2d5bc8"
      },
      "source": [
        "# summarize history for accuracy\n",
        "plt.plot(history_newmodel.history['accuracy'])\n",
        "plt.plot(history_newmodel.history['val_accuracy'])\n",
        "plt.title('model accuracy')\n",
        "plt.ylabel('accuracy')\n",
        "plt.xlabel('epoch')\n",
        "plt.legend(['train', 'test'], loc='upper left')\n",
        "plt.show()"
      ],
      "execution_count": 18,
      "outputs": [
        {
          "output_type": "display_data",
          "data": {
            "image/png": "[encoded data removed]",
            "text/plain": [
              "<Figure size 432x288 with 1 Axes>"
            ]
          },
          "metadata": {
            "tags": [],
            "needs_background": "light"
          }
        }
      ]
    },
    {
      "cell_type": "markdown",
      "metadata": {
        "id": "6b2hD1RVl0fa",
        "colab_type": "text"
      },
      "source": [
        "Training a freshly initialized model on the target domain data set"
      ]
    },
    {
      "cell_type": "code",
      "metadata": {
        "id": "yNOdb37Al0Hv",
        "colab_type": "code",
        "colab": {}
      },
      "source": [
        "model_3 = Sequential()\n",
        "    # add Convolutional layers\n",
        "model_3.add(Conv2D(28,kernel_size=(3,3), activation='relu',input_shape=input_shape))\n",
        "model_3.add(MaxPooling2D(pool_size=(2,2)))\n",
        "model_3.add(Conv2D(filters=64, kernel_size=(3,3), activation='relu', padding='same'))\n",
        "model_3.add(MaxPooling2D(pool_size=(2,2)))\n",
        "model_3.add(Conv2D(filters=64, kernel_size=(3,3), activation='relu', padding='same'))\n",
        "model_3.add(MaxPooling2D(pool_size=(2,2)))    \n",
        "model_3.add(Flatten())\n",
        "    # Densely connected layers\n",
        "model_3.add(Dense(128, activation='relu'))\n",
        "    # output layer\n",
        "model_3.add(Dense(3, activation='softmax'))\n",
        "    # compile with adam optimizer & categorical_crossentropy loss function\n",
        "model_3.compile(optimizer='adam', loss='sparse_categorical_crossentropy', metrics=['accuracy'])\n",
        "\n",
        "\n",
        "\n",
        "\n",
        "\n",
        "\n",
        "\n",
        "\n",
        "\n",
        "\n",
        "\n",
        "# model_3 = Sequential()\n",
        "# model_3.add(Conv2D(28, kernel_size=(3,3), activation='relu', input_shape=input_shape))\n",
        "# model_3.add(MaxPooling2D(pool_size=(2, 2)))\n",
        "# model_3.add(Flatten()) \n",
        "# model_3.add(Dense(128, activation='relu'))\n",
        "# model_3.add(Dropout(0.2))\n",
        "# model_3.add(Dense(3,activation='softmax'))\n",
        "\n",
        "# model_3.compile(optimizer='adam', \n",
        "#                   loss='sparse_categorical_crossentropy', \n",
        "#                   metrics=['accuracy'])\n",
        "\n",
        "#print(model.summary())\n"
      ],
      "execution_count": 20,
      "outputs": []
    },
    {
      "cell_type": "code",
      "metadata": {
        "id": "OSSvEc5B2usk",
        "colab_type": "code",
        "colab": {
          "base_uri": "https://localhost:8080/",
          "height": 1000
        },
        "outputId": "8b184e35-9702-4ab5-e81b-4312d2038a46"
      },
      "source": [
        "#model_3.fit(x=x_train79,y=y_train79 , epochs=20)\n",
        "model_3.fit(x=x_train79,y=y_train79, epochs=20)\n",
        "history_model_3 = model_3.fit(x_train79, y_train79,epochs=20, batch_size=10, validation_data=(x_test79, y_test79), shuffle=True)"
      ],
      "execution_count": 21,
      "outputs": [
        {
          "output_type": "stream",
          "text": [
            "Epoch 1/20\n",
            "565/565 [==============================] - 2s 3ms/step - loss: 0.0952 - accuracy: 0.9680\n",
            "Epoch 2/20\n",
            "565/565 [==============================] - 2s 3ms/step - loss: 0.0195 - accuracy: 0.9939\n",
            "Epoch 3/20\n",
            "565/565 [==============================] - 1s 3ms/step - loss: 0.0160 - accuracy: 0.9952\n",
            "Epoch 4/20\n",
            "565/565 [==============================] - 1s 3ms/step - loss: 0.0101 - accuracy: 0.9962\n",
            "Epoch 5/20\n",
            "565/565 [==============================] - 1s 3ms/step - loss: 0.0088 - accuracy: 0.9972\n",
            "Epoch 6/20\n",
            "565/565 [==============================] - 1s 3ms/step - loss: 0.0055 - accuracy: 0.9980\n",
            "Epoch 7/20\n",
            "565/565 [==============================] - 2s 3ms/step - loss: 0.0042 - accuracy: 0.9986\n",
            "Epoch 8/20\n",
            "565/565 [==============================] - 2s 3ms/step - loss: 0.0053 - accuracy: 0.9985\n",
            "Epoch 9/20\n",
            "565/565 [==============================] - 2s 3ms/step - loss: 0.0038 - accuracy: 0.9989\n",
            "Epoch 10/20\n",
            "565/565 [==============================] - 2s 3ms/step - loss: 0.0046 - accuracy: 0.9985\n",
            "Epoch 11/20\n",
            "565/565 [==============================] - 2s 3ms/step - loss: 0.0041 - accuracy: 0.9985\n",
            "Epoch 12/20\n",
            "565/565 [==============================] - 2s 3ms/step - loss: 4.9924e-04 - accuracy: 0.9998\n",
            "Epoch 13/20\n",
            "565/565 [==============================] - 2s 3ms/step - loss: 0.0022 - accuracy: 0.9993\n",
            "Epoch 14/20\n",
            "565/565 [==============================] - 2s 3ms/step - loss: 0.0050 - accuracy: 0.9983\n",
            "Epoch 15/20\n",
            "565/565 [==============================] - 2s 3ms/step - loss: 5.1946e-04 - accuracy: 0.9998\n",
            "Epoch 16/20\n",
            "565/565 [==============================] - 2s 3ms/step - loss: 0.0030 - accuracy: 0.9991\n",
            "Epoch 17/20\n",
            "565/565 [==============================] - 1s 3ms/step - loss: 0.0011 - accuracy: 0.9996\n",
            "Epoch 18/20\n",
            "565/565 [==============================] - 2s 3ms/step - loss: 0.0053 - accuracy: 0.9983\n",
            "Epoch 19/20\n",
            "565/565 [==============================] - 2s 3ms/step - loss: 8.5991e-04 - accuracy: 0.9996\n",
            "Epoch 20/20\n",
            "565/565 [==============================] - 2s 3ms/step - loss: 0.0013 - accuracy: 0.9996\n",
            "Epoch 1/20\n",
            "565/565 [==============================] - 2s 3ms/step - loss: 0.0033 - accuracy: 0.9990\n",
            "Epoch 2/20\n",
            "565/565 [==============================] - 1s 3ms/step - loss: 0.0016 - accuracy: 0.9996\n",
            "Epoch 3/20\n",
            "565/565 [==============================] - 2s 3ms/step - loss: 0.0018 - accuracy: 0.9996\n",
            "Epoch 4/20\n",
            "565/565 [==============================] - 2s 3ms/step - loss: 6.2437e-06 - accuracy: 1.0000\n",
            "Epoch 5/20\n",
            "565/565 [==============================] - 2s 3ms/step - loss: 2.1655e-06 - accuracy: 1.0000\n",
            "Epoch 6/20\n",
            "565/565 [==============================] - 1s 3ms/step - loss: 1.1114e-06 - accuracy: 1.0000\n",
            "Epoch 7/20\n",
            "565/565 [==============================] - 2s 3ms/step - loss: 6.6591e-07 - accuracy: 1.0000\n",
            "Epoch 8/20\n",
            "565/565 [==============================] - 2s 3ms/step - loss: 4.4920e-07 - accuracy: 1.0000\n",
            "Epoch 9/20\n",
            "565/565 [==============================] - 2s 3ms/step - loss: 3.1858e-07 - accuracy: 1.0000\n",
            "Epoch 10/20\n",
            "565/565 [==============================] - 1s 3ms/step - loss: 2.2889e-07 - accuracy: 1.0000\n",
            "Epoch 11/20\n",
            "565/565 [==============================] - 1s 3ms/step - loss: 1.6464e-07 - accuracy: 1.0000\n",
            "Epoch 12/20\n",
            "565/565 [==============================] - 2s 3ms/step - loss: 1.1832e-07 - accuracy: 1.0000\n",
            "Epoch 13/20\n",
            "565/565 [==============================] - 2s 3ms/step - loss: 8.9427e-08 - accuracy: 1.0000\n",
            "Epoch 14/20\n",
            "565/565 [==============================] - 2s 3ms/step - loss: 6.3164e-08 - accuracy: 1.0000\n",
            "Epoch 15/20\n",
            "565/565 [==============================] - 1s 3ms/step - loss: 4.7776e-08 - accuracy: 1.0000\n",
            "Epoch 16/20\n",
            "565/565 [==============================] - 1s 3ms/step - loss: 3.4578e-08 - accuracy: 1.0000\n",
            "Epoch 17/20\n",
            "565/565 [==============================] - 2s 3ms/step - loss: 2.4693e-08 - accuracy: 1.0000\n",
            "Epoch 18/20\n",
            "565/565 [==============================] - 2s 3ms/step - loss: 1.9018e-08 - accuracy: 1.0000\n",
            "Epoch 19/20\n",
            "565/565 [==============================] - 1s 3ms/step - loss: 1.4861e-08 - accuracy: 1.0000\n",
            "Epoch 20/20\n",
            "565/565 [==============================] - 2s 3ms/step - loss: 1.1720e-08 - accuracy: 1.0000\n",
            "Epoch 1/20\n",
            "1807/1807 [==============================] - 5s 3ms/step - loss: 0.0064 - accuracy: 0.9992 - val_loss: 0.0176 - val_accuracy: 0.9937\n",
            "Epoch 2/20\n",
            "1807/1807 [==============================] - 5s 3ms/step - loss: 0.0066 - accuracy: 0.9979 - val_loss: 0.0619 - val_accuracy: 0.9827\n",
            "Epoch 3/20\n",
            "1807/1807 [==============================] - 5s 3ms/step - loss: 0.0073 - accuracy: 0.9980 - val_loss: 0.0121 - val_accuracy: 0.9963\n",
            "Epoch 4/20\n",
            "1807/1807 [==============================] - 5s 3ms/step - loss: 0.0047 - accuracy: 0.9988 - val_loss: 0.0234 - val_accuracy: 0.9930\n",
            "Epoch 5/20\n",
            "1807/1807 [==============================] - 5s 3ms/step - loss: 0.0025 - accuracy: 0.9992 - val_loss: 0.0112 - val_accuracy: 0.9950\n",
            "Epoch 6/20\n",
            "1807/1807 [==============================] - 5s 3ms/step - loss: 0.0039 - accuracy: 0.9989 - val_loss: 0.0334 - val_accuracy: 0.9940\n",
            "Epoch 7/20\n",
            "1807/1807 [==============================] - 5s 3ms/step - loss: 0.0046 - accuracy: 0.9989 - val_loss: 0.0426 - val_accuracy: 0.9930\n",
            "Epoch 8/20\n",
            "1807/1807 [==============================] - 5s 3ms/step - loss: 0.0065 - accuracy: 0.9983 - val_loss: 0.0305 - val_accuracy: 0.9924\n",
            "Epoch 9/20\n",
            "1807/1807 [==============================] - 5s 3ms/step - loss: 0.0036 - accuracy: 0.9989 - val_loss: 0.0170 - val_accuracy: 0.9950\n",
            "Epoch 10/20\n",
            "1807/1807 [==============================] - 5s 3ms/step - loss: 0.0042 - accuracy: 0.9991 - val_loss: 0.0303 - val_accuracy: 0.9954\n",
            "Epoch 11/20\n",
            "1807/1807 [==============================] - 5s 3ms/step - loss: 0.0049 - accuracy: 0.9986 - val_loss: 0.0318 - val_accuracy: 0.9940\n",
            "Epoch 12/20\n",
            "1807/1807 [==============================] - 5s 3ms/step - loss: 0.0029 - accuracy: 0.9994 - val_loss: 0.0283 - val_accuracy: 0.9940\n",
            "Epoch 13/20\n",
            "1807/1807 [==============================] - 5s 3ms/step - loss: 0.0043 - accuracy: 0.9991 - val_loss: 0.0261 - val_accuracy: 0.9954\n",
            "Epoch 14/20\n",
            "1807/1807 [==============================] - 5s 3ms/step - loss: 0.0025 - accuracy: 0.9994 - val_loss: 0.0177 - val_accuracy: 0.9960\n",
            "Epoch 15/20\n",
            "1807/1807 [==============================] - 5s 3ms/step - loss: 0.0037 - accuracy: 0.9986 - val_loss: 0.0147 - val_accuracy: 0.9973\n",
            "Epoch 16/20\n",
            "1807/1807 [==============================] - 5s 3ms/step - loss: 0.0024 - accuracy: 0.9994 - val_loss: 0.0260 - val_accuracy: 0.9954\n",
            "Epoch 17/20\n",
            "1807/1807 [==============================] - 5s 3ms/step - loss: 0.0066 - accuracy: 0.9987 - val_loss: 0.0145 - val_accuracy: 0.9967\n",
            "Epoch 18/20\n",
            "1807/1807 [==============================] - 5s 3ms/step - loss: 5.5985e-04 - accuracy: 0.9999 - val_loss: 0.0157 - val_accuracy: 0.9963\n",
            "Epoch 19/20\n",
            "1807/1807 [==============================] - 5s 3ms/step - loss: 2.3300e-04 - accuracy: 0.9999 - val_loss: 0.2316 - val_accuracy: 0.9791\n",
            "Epoch 20/20\n",
            "1807/1807 [==============================] - 5s 3ms/step - loss: 0.0055 - accuracy: 0.9986 - val_loss: 0.0494 - val_accuracy: 0.9937\n"
          ],
          "name": "stdout"
        }
      ]
    },
    {
      "cell_type": "code",
      "metadata": {
        "id": "hEVUQ7l7Vg10",
        "colab_type": "code",
        "colab": {
          "base_uri": "https://localhost:8080/",
          "height": 295
        },
        "outputId": "b81017a7-7cb9-4876-9b32-9bd95c6b8f7f"
      },
      "source": [
        "# summarize history for accuracy\n",
        "plt.plot(history_model_3.history['accuracy'])\n",
        "plt.plot(history_model_3.history['val_accuracy'])\n",
        "plt.title('model accuracy')\n",
        "plt.ylabel('accuracy')\n",
        "plt.xlabel('epoch')\n",
        "plt.legend(['train', 'test'], loc='upper left')\n",
        "plt.show()"
      ],
      "execution_count": 22,
      "outputs": [
        {
          "output_type": "display_data",
          "data": {
            "image/png": "[encoded data removed]",
            "text/plain": [
              "<Figure size 432x288 with 1 Axes>"
            ]
          },
          "metadata": {
            "tags": [],
            "needs_background": "light"
          }
        }
      ]
    },
    {
      "cell_type": "code",
      "metadata": {
        "id": "OjFhar2eGpNH",
        "colab_type": "code",
        "colab": {}
      },
      "source": [
        "model_3.save('model_3.h5')"
      ],
      "execution_count": 18,
      "outputs": []
    },
    {
      "cell_type": "markdown",
      "metadata": {
        "id": "QsMRFUci4onc",
        "colab_type": "text"
      },
      "source": [
        "**Comparison of new model and transfer model**\n",
        "\n",
        "1. Achieved accuracy: Model prepared from scratch give more accuracy on test data as well as compared to the transferred model.\n",
        "\n",
        "2. Steps until convergence: Model prepared from scratch converged faster on training set as compared to the transferred model.\n",
        "\n",
        "3. Generalization: Transferred model didn't generalise well as compared to the model prepared from scratch."
      ]
    },
    {
      "cell_type": "markdown",
      "metadata": {
        "id": "q7hohPyI7-GD",
        "colab_type": "text"
      },
      "source": [
        "**TASK 3.2 Different Distribution**\n",
        "1. Train a model on MNIST and use it as initialisation model for FMNIST.\n",
        "2. Train a model from scratch on FMNIST.\n",
        "3. Train a model on FMNIST and use it as initialisation model for MNIST"
      ]
    },
    {
      "cell_type": "markdown",
      "metadata": {
        "id": "2Z7CdgX6kgZt",
        "colab_type": "text"
      },
      "source": [
        " Train a model on MNIST and use it as initialisation model for FMNIST.\n",
        "\n",
        "\n"
      ]
    },
    {
      "cell_type": "code",
      "metadata": {
        "id": "0Y9p12-XV305",
        "colab_type": "code",
        "colab": {}
      },
      "source": [
        "x_train = x_train.reshape(x_train.shape[0], 28, 28, 1)\n",
        "x_test = x_test.reshape(x_test.shape[0], 28, 28, 1)\n",
        "input_shape = (28, 28, 1)\n",
        "# Making sure that the values are float so that we can get decimal points after division\n",
        "x_train = x_train.astype('float32')\n",
        "x_test = x_test.astype('float32')\n",
        "# Normalizing the RGB codes by dividing it to the max RGB value.\n",
        "x_train /= 255\n",
        "x_test /= 255"
      ],
      "execution_count": 6,
      "outputs": []
    },
    {
      "cell_type": "code",
      "metadata": {
        "id": "kPxxzF08VRqN",
        "colab_type": "code",
        "colab": {}
      },
      "source": [
        "model_4 = Sequential()\n",
        "    # add Convolutional layers\n",
        "model_4.add(Conv2D(28,kernel_size=(3,3), activation='relu',input_shape=input_shape))\n",
        "model_4.add(MaxPooling2D(pool_size=(2,2)))\n",
        "model_4.add(Conv2D(filters=64, kernel_size=(3,3), activation='relu', padding='same'))\n",
        "model_4.add(MaxPooling2D(pool_size=(2,2)))\n",
        "model_4.add(Conv2D(filters=64, kernel_size=(3,3), activation='relu', padding='same'))\n",
        "model_4.add(MaxPooling2D(pool_size=(2,2)))    \n",
        "model_4.add(Flatten())\n",
        "    # Densely connected layers\n",
        "model_4.add(Dense(128, activation='relu'))\n",
        "    # output layer\n",
        "model_4.add(Dense(10, activation='softmax'))\n",
        "    # compile with adam optimizer & categorical_crossentropy loss function\n",
        "model_4.compile(optimizer='adam', loss='sparse_categorical_crossentropy', metrics=['accuracy'])"
      ],
      "execution_count": 7,
      "outputs": []
    },
    {
      "cell_type": "code",
      "metadata": {
        "id": "XDcBvGCEWD3T",
        "colab_type": "code",
        "colab": {
          "base_uri": "https://localhost:8080/",
          "height": 1000
        },
        "outputId": "3997605c-754c-4b37-a912-39271a885054"
      },
      "source": [
        "model_4.fit(x=x_train,y=y_train , epochs=20)\n",
        "history_model_4 = model_4.fit(x_train, y_train,epochs=20, batch_size=10, validation_data=(x_test, y_test), shuffle=True)"
      ],
      "execution_count": 8,
      "outputs": [
        {
          "output_type": "stream",
          "text": [
            "Epoch 1/20\n",
            "1875/1875 [==============================] - 5s 3ms/step - loss: 2.3015 - accuracy: 0.1116\n",
            "Epoch 2/20\n",
            "1875/1875 [==============================] - 5s 3ms/step - loss: 2.3014 - accuracy: 0.1124\n",
            "Epoch 3/20\n",
            "1875/1875 [==============================] - 5s 3ms/step - loss: 2.3014 - accuracy: 0.1124\n",
            "Epoch 4/20\n",
            "1875/1875 [==============================] - 5s 3ms/step - loss: 2.3014 - accuracy: 0.1124\n",
            "Epoch 5/20\n",
            "1875/1875 [==============================] - 5s 3ms/step - loss: 2.3014 - accuracy: 0.1124\n",
            "Epoch 6/20\n",
            "1875/1875 [==============================] - 5s 3ms/step - loss: 2.3013 - accuracy: 0.1124\n",
            "Epoch 7/20\n",
            "1875/1875 [==============================] - 5s 3ms/step - loss: 2.3014 - accuracy: 0.1124\n",
            "Epoch 8/20\n",
            "1875/1875 [==============================] - 5s 3ms/step - loss: 2.3014 - accuracy: 0.1124\n",
            "Epoch 9/20\n",
            "1875/1875 [==============================] - 5s 3ms/step - loss: 2.3013 - accuracy: 0.1124\n",
            "Epoch 10/20\n",
            "1875/1875 [==============================] - 5s 3ms/step - loss: 2.3013 - accuracy: 0.1124\n",
            "Epoch 11/20\n",
            "1875/1875 [==============================] - 5s 3ms/step - loss: 2.3014 - accuracy: 0.1124\n",
            "Epoch 12/20\n",
            "1875/1875 [==============================] - 5s 3ms/step - loss: 2.3014 - accuracy: 0.1124\n",
            "Epoch 13/20\n",
            "1875/1875 [==============================] - 5s 3ms/step - loss: 2.3013 - accuracy: 0.1124\n",
            "Epoch 14/20\n",
            "1875/1875 [==============================] - 5s 3ms/step - loss: 2.3013 - accuracy: 0.1124\n",
            "Epoch 15/20\n",
            "1875/1875 [==============================] - 5s 3ms/step - loss: 2.3014 - accuracy: 0.1124\n",
            "Epoch 16/20\n",
            "1875/1875 [==============================] - 5s 3ms/step - loss: 2.3014 - accuracy: 0.1124\n",
            "Epoch 17/20\n",
            "1875/1875 [==============================] - 5s 3ms/step - loss: 2.3014 - accuracy: 0.1124\n",
            "Epoch 18/20\n",
            "1875/1875 [==============================] - 5s 3ms/step - loss: 2.3013 - accuracy: 0.1124\n",
            "Epoch 19/20\n",
            "1875/1875 [==============================] - 5s 3ms/step - loss: 2.3013 - accuracy: 0.1124\n",
            "Epoch 20/20\n",
            "1875/1875 [==============================] - 5s 3ms/step - loss: 2.3013 - accuracy: 0.1124\n",
            "Epoch 1/20\n",
            "6000/6000 [==============================] - 18s 3ms/step - loss: 2.3015 - accuracy: 0.1123 - val_loss: 2.3011 - val_accuracy: 0.1135\n",
            "Epoch 2/20\n",
            "6000/6000 [==============================] - 18s 3ms/step - loss: 2.3015 - accuracy: 0.1124 - val_loss: 2.3013 - val_accuracy: 0.1135\n",
            "Epoch 3/20\n",
            "6000/6000 [==============================] - 17s 3ms/step - loss: 2.3015 - accuracy: 0.1121 - val_loss: 2.3012 - val_accuracy: 0.1135\n",
            "Epoch 4/20\n",
            "6000/6000 [==============================] - 17s 3ms/step - loss: 2.3015 - accuracy: 0.1124 - val_loss: 2.3011 - val_accuracy: 0.1135\n",
            "Epoch 5/20\n",
            "6000/6000 [==============================] - 17s 3ms/step - loss: 2.3015 - accuracy: 0.1124 - val_loss: 2.3012 - val_accuracy: 0.1135\n",
            "Epoch 6/20\n",
            "6000/6000 [==============================] - 17s 3ms/step - loss: 2.3014 - accuracy: 0.1124 - val_loss: 2.3013 - val_accuracy: 0.1135\n",
            "Epoch 7/20\n",
            "6000/6000 [==============================] - 17s 3ms/step - loss: 2.3014 - accuracy: 0.1124 - val_loss: 2.3012 - val_accuracy: 0.1135\n",
            "Epoch 8/20\n",
            "6000/6000 [==============================] - 18s 3ms/step - loss: 2.3014 - accuracy: 0.1122 - val_loss: 2.3011 - val_accuracy: 0.1135\n",
            "Epoch 9/20\n",
            "6000/6000 [==============================] - 17s 3ms/step - loss: 2.3015 - accuracy: 0.1124 - val_loss: 2.3010 - val_accuracy: 0.1135\n",
            "Epoch 10/20\n",
            "6000/6000 [==============================] - 17s 3ms/step - loss: 2.3015 - accuracy: 0.1124 - val_loss: 2.3010 - val_accuracy: 0.1135\n",
            "Epoch 11/20\n",
            "6000/6000 [==============================] - 17s 3ms/step - loss: 2.3015 - accuracy: 0.1124 - val_loss: 2.3012 - val_accuracy: 0.1135\n",
            "Epoch 12/20\n",
            "6000/6000 [==============================] - 17s 3ms/step - loss: 2.3014 - accuracy: 0.1124 - val_loss: 2.3013 - val_accuracy: 0.1135\n",
            "Epoch 13/20\n",
            "6000/6000 [==============================] - 17s 3ms/step - loss: 2.3015 - accuracy: 0.1124 - val_loss: 2.3010 - val_accuracy: 0.1135\n",
            "Epoch 14/20\n",
            "6000/6000 [==============================] - 17s 3ms/step - loss: 2.3014 - accuracy: 0.1124 - val_loss: 2.3014 - val_accuracy: 0.1135\n",
            "Epoch 15/20\n",
            "6000/6000 [==============================] - 17s 3ms/step - loss: 2.3014 - accuracy: 0.1124 - val_loss: 2.3011 - val_accuracy: 0.1135\n",
            "Epoch 16/20\n",
            "6000/6000 [==============================] - 17s 3ms/step - loss: 2.3015 - accuracy: 0.1124 - val_loss: 2.3013 - val_accuracy: 0.1135\n",
            "Epoch 17/20\n",
            "6000/6000 [==============================] - 17s 3ms/step - loss: 2.3015 - accuracy: 0.1121 - val_loss: 2.3011 - val_accuracy: 0.1135\n",
            "Epoch 18/20\n",
            "6000/6000 [==============================] - 17s 3ms/step - loss: 2.3014 - accuracy: 0.1124 - val_loss: 2.3011 - val_accuracy: 0.1135\n",
            "Epoch 19/20\n",
            "6000/6000 [==============================] - 17s 3ms/step - loss: 2.3015 - accuracy: 0.1124 - val_loss: 2.3010 - val_accuracy: 0.1135\n",
            "Epoch 20/20\n",
            "6000/6000 [==============================] - 17s 3ms/step - loss: 2.3014 - accuracy: 0.1124 - val_loss: 2.3013 - val_accuracy: 0.1135\n"
          ],
          "name": "stdout"
        }
      ]
    },
    {
      "cell_type": "markdown",
      "metadata": {
        "id": "gFV0IVJ0k-Lr",
        "colab_type": "text"
      },
      "source": [
        "Use model 4 (MNIST) as initial model for FMNIST"
      ]
    },
    {
      "cell_type": "code",
      "metadata": {
        "id": "Dtt_d6dIBPaK",
        "colab_type": "code",
        "colab": {
          "base_uri": "https://localhost:8080/",
          "height": 170
        },
        "outputId": "ebd993f9-419b-433e-882f-6a901dfbf425"
      },
      "source": [
        "# Load the fashion-mnist pre-shuffled train data and test data\n",
        "(fx_train, fy_train), (fx_test, fy_test) = tf.keras.datasets.fashion_mnist.load_data()\n",
        "print(\"fx_train shape:\", fx_train.shape, \"fy_train shape:\", fy_train.shape)"
      ],
      "execution_count": 9,
      "outputs": [
        {
          "output_type": "stream",
          "text": [
            "Downloading data from https://storage.googleapis.com/tensorflow/tf-keras-datasets/train-labels-idx1-ubyte.gz\n",
            "32768/29515 [=================================] - 0s 0us/step\n",
            "Downloading data from https://storage.googleapis.com/tensorflow/tf-keras-datasets/train-images-idx3-ubyte.gz\n",
            "26427392/26421880 [==============================] - 0s 0us/step\n",
            "Downloading data from https://storage.googleapis.com/tensorflow/tf-keras-datasets/t10k-labels-idx1-ubyte.gz\n",
            "8192/5148 [===============================================] - 0s 0us/step\n",
            "Downloading data from https://storage.googleapis.com/tensorflow/tf-keras-datasets/t10k-images-idx3-ubyte.gz\n",
            "4423680/4422102 [==============================] - 0s 0us/step\n",
            "fx_train shape: (60000, 28, 28) fy_train shape: (60000,)\n"
          ],
          "name": "stdout"
        }
      ]
    },
    {
      "cell_type": "code",
      "metadata": {
        "id": "SdrBrPgDBTrf",
        "colab_type": "code",
        "colab": {}
      },
      "source": [
        "fx_train = fx_train.astype('float32') / 255\n",
        "fx_test = fx_test.astype('float32') / 255"
      ],
      "execution_count": 10,
      "outputs": []
    },
    {
      "cell_type": "code",
      "metadata": {
        "id": "I1vEw0YwBWoK",
        "colab_type": "code",
        "colab": {}
      },
      "source": [
        "w, h = 28, 28\n",
        "fx_train = fx_train.reshape(fx_train.shape[0], w, h, 1)\n",
        "fx_test = fx_test.reshape(fx_test.shape[0], w, h, 1)\n",
        "\n",
        "# One-hot encode the labels\n",
        "fy_train = tf.keras.utils.to_categorical(fy_train, 10)\n",
        "fy_test = tf.keras.utils.to_categorical(fy_test, 10)"
      ],
      "execution_count": 11,
      "outputs": []
    },
    {
      "cell_type": "code",
      "metadata": {
        "id": "CibYiDIg900I",
        "colab_type": "code",
        "colab": {
          "base_uri": "https://localhost:8080/",
          "height": 1000
        },
        "outputId": "eb74612c-079a-4590-a6e3-99fc1b19edb5"
      },
      "source": [
        "fnewModel = Model(inputs=model_4.inputs, outputs=model_4.layers[-2].output)\n",
        "\n",
        "\n",
        "flat1 = Flatten()(model_4.layers[-1].output)\n",
        "#class1 = Dense(1024, activation='relu')(flat1)\n",
        "output = Dense(10, activation='softmax')(flat1)\n",
        "# define new model\n",
        "fnewModel = Model(inputs=model_4.inputs, outputs=output)\n",
        "# summarize\n",
        "fnewModel.summary()\n",
        "fnewModel.compile(optimizer='adam', \n",
        "                  loss='categorical_crossentropy', \n",
        "                  metrics=['accuracy'])\n",
        "\n",
        "fnewModel.fit(x=fx_train,y=fy_train, epochs=20)"
      ],
      "execution_count": 12,
      "outputs": [
        {
          "output_type": "stream",
          "text": [
            "Model: \"functional_3\"\n",
            "_________________________________________________________________\n",
            "Layer (type)                 Output Shape              Param #   \n",
            "=================================================================\n",
            "conv2d_3_input (InputLayer)  [(None, 28, 28, 1)]       0         \n",
            "_________________________________________________________________\n",
            "conv2d_3 (Conv2D)            (None, 26, 26, 28)        280       \n",
            "_________________________________________________________________\n",
            "max_pooling2d_3 (MaxPooling2 (None, 13, 13, 28)        0         \n",
            "_________________________________________________________________\n",
            "conv2d_4 (Conv2D)            (None, 13, 13, 64)        16192     \n",
            "_________________________________________________________________\n",
            "max_pooling2d_4 (MaxPooling2 (None, 6, 6, 64)          0         \n",
            "_________________________________________________________________\n",
            "conv2d_5 (Conv2D)            (None, 6, 6, 64)          36928     \n",
            "_________________________________________________________________\n",
            "max_pooling2d_5 (MaxPooling2 (None, 3, 3, 64)          0         \n",
            "_________________________________________________________________\n",
            "flatten_1 (Flatten)          (None, 576)               0         \n",
            "_________________________________________________________________\n",
            "dense_2 (Dense)              (None, 128)               73856     \n",
            "_________________________________________________________________\n",
            "dense_3 (Dense)              (None, 10)                1290      \n",
            "_________________________________________________________________\n",
            "flatten_2 (Flatten)          (None, 10)                0         \n",
            "_________________________________________________________________\n",
            "dense_4 (Dense)              (None, 10)                110       \n",
            "=================================================================\n",
            "Total params: 128,656\n",
            "Trainable params: 128,656\n",
            "Non-trainable params: 0\n",
            "_________________________________________________________________\n",
            "Epoch 1/20\n",
            "1875/1875 [==============================] - 6s 3ms/step - loss: 1.4611 - accuracy: 0.5343\n",
            "Epoch 2/20\n",
            "1875/1875 [==============================] - 5s 3ms/step - loss: 0.9486 - accuracy: 0.6077\n",
            "Epoch 3/20\n",
            "1875/1875 [==============================] - 6s 3ms/step - loss: 0.7704 - accuracy: 0.7459\n",
            "Epoch 4/20\n",
            "1875/1875 [==============================] - 6s 3ms/step - loss: 0.6425 - accuracy: 0.7719\n",
            "Epoch 5/20\n",
            "1875/1875 [==============================] - 6s 3ms/step - loss: 0.5711 - accuracy: 0.7962\n",
            "Epoch 6/20\n",
            "1875/1875 [==============================] - 6s 3ms/step - loss: 0.4560 - accuracy: 0.8729\n",
            "Epoch 7/20\n",
            "1875/1875 [==============================] - 6s 3ms/step - loss: 0.3719 - accuracy: 0.8977\n",
            "Epoch 8/20\n",
            "1875/1875 [==============================] - 6s 3ms/step - loss: 0.3091 - accuracy: 0.9130\n",
            "Epoch 9/20\n",
            "1875/1875 [==============================] - 6s 3ms/step - loss: 0.2654 - accuracy: 0.9227\n",
            "Epoch 10/20\n",
            "1875/1875 [==============================] - 6s 3ms/step - loss: 0.2361 - accuracy: 0.9300\n",
            "Epoch 11/20\n",
            "1875/1875 [==============================] - 6s 3ms/step - loss: 0.2131 - accuracy: 0.9351\n",
            "Epoch 12/20\n",
            "1875/1875 [==============================] - 6s 3ms/step - loss: 0.1913 - accuracy: 0.9406\n",
            "Epoch 13/20\n",
            "1875/1875 [==============================] - 6s 3ms/step - loss: 0.1807 - accuracy: 0.9444\n",
            "Epoch 14/20\n",
            "1875/1875 [==============================] - 6s 3ms/step - loss: 0.1654 - accuracy: 0.9488\n",
            "Epoch 15/20\n",
            "1875/1875 [==============================] - 6s 3ms/step - loss: 0.1539 - accuracy: 0.9526\n",
            "Epoch 16/20\n",
            "1875/1875 [==============================] - 6s 3ms/step - loss: 0.1437 - accuracy: 0.9549\n",
            "Epoch 17/20\n",
            "1875/1875 [==============================] - 6s 3ms/step - loss: 0.1333 - accuracy: 0.9594\n",
            "Epoch 18/20\n",
            "1875/1875 [==============================] - 6s 3ms/step - loss: 0.1247 - accuracy: 0.9614\n",
            "Epoch 19/20\n",
            "1875/1875 [==============================] - 6s 3ms/step - loss: 0.1159 - accuracy: 0.9642\n",
            "Epoch 20/20\n",
            "1875/1875 [==============================] - 6s 3ms/step - loss: 0.1098 - accuracy: 0.9658\n"
          ],
          "name": "stdout"
        },
        {
          "output_type": "execute_result",
          "data": {
            "text/plain": [
              "<tensorflow.python.keras.callbacks.History at 0x7f487a7f7a58>"
            ]
          },
          "metadata": {
            "tags": []
          },
          "execution_count": 12
        }
      ]
    },
    {
      "cell_type": "code",
      "metadata": {
        "id": "JnutGjuWlgWY",
        "colab_type": "code",
        "colab": {
          "base_uri": "https://localhost:8080/",
          "height": 697
        },
        "outputId": "7ea64b1d-e0ac-4c33-bd1f-9644516695df"
      },
      "source": [
        "\n",
        "history_fnewModel = fnewModel.fit(fx_train, fy_train,epochs=20, batch_size=10, validation_data=(fx_test, fy_test), shuffle=True)"
      ],
      "execution_count": 30,
      "outputs": [
        {
          "output_type": "stream",
          "text": [
            "Epoch 1/20\n",
            "6000/6000 [==============================] - 20s 3ms/step - loss: 0.0992 - accuracy: 0.9691 - val_loss: 0.4314 - val_accuracy: 0.9021\n",
            "Epoch 2/20\n",
            "6000/6000 [==============================] - 20s 3ms/step - loss: 0.1013 - accuracy: 0.9691 - val_loss: 0.4007 - val_accuracy: 0.9037\n",
            "Epoch 3/20\n",
            "6000/6000 [==============================] - 20s 3ms/step - loss: 0.1040 - accuracy: 0.9686 - val_loss: 0.4160 - val_accuracy: 0.9001\n",
            "Epoch 4/20\n",
            "6000/6000 [==============================] - 20s 3ms/step - loss: 0.1055 - accuracy: 0.9682 - val_loss: 0.4161 - val_accuracy: 0.9010\n",
            "Epoch 5/20\n",
            "6000/6000 [==============================] - 20s 3ms/step - loss: 0.0987 - accuracy: 0.9700 - val_loss: 0.4113 - val_accuracy: 0.9087\n",
            "Epoch 6/20\n",
            "6000/6000 [==============================] - 20s 3ms/step - loss: 0.0968 - accuracy: 0.9708 - val_loss: 0.4226 - val_accuracy: 0.9040\n",
            "Epoch 7/20\n",
            "6000/6000 [==============================] - 19s 3ms/step - loss: 0.0955 - accuracy: 0.9721 - val_loss: 0.4364 - val_accuracy: 0.9019\n",
            "Epoch 8/20\n",
            "6000/6000 [==============================] - 19s 3ms/step - loss: 0.0933 - accuracy: 0.9720 - val_loss: 0.4278 - val_accuracy: 0.9029\n",
            "Epoch 9/20\n",
            "6000/6000 [==============================] - 20s 3ms/step - loss: 0.0889 - accuracy: 0.9731 - val_loss: 0.4489 - val_accuracy: 0.9008\n",
            "Epoch 10/20\n",
            "6000/6000 [==============================] - 20s 3ms/step - loss: 0.0903 - accuracy: 0.9732 - val_loss: 0.4472 - val_accuracy: 0.9016\n",
            "Epoch 11/20\n",
            "6000/6000 [==============================] - 19s 3ms/step - loss: 0.0939 - accuracy: 0.9725 - val_loss: 0.4599 - val_accuracy: 0.8975\n",
            "Epoch 12/20\n",
            "6000/6000 [==============================] - 19s 3ms/step - loss: 0.0904 - accuracy: 0.9731 - val_loss: 0.4507 - val_accuracy: 0.9057\n",
            "Epoch 13/20\n",
            "6000/6000 [==============================] - 20s 3ms/step - loss: 0.0921 - accuracy: 0.9730 - val_loss: 0.4755 - val_accuracy: 0.8995\n",
            "Epoch 14/20\n",
            "6000/6000 [==============================] - 19s 3ms/step - loss: 0.0902 - accuracy: 0.9740 - val_loss: 0.4377 - val_accuracy: 0.9057\n",
            "Epoch 15/20\n",
            "6000/6000 [==============================] - 20s 3ms/step - loss: 0.0895 - accuracy: 0.9739 - val_loss: 0.4533 - val_accuracy: 0.9029\n",
            "Epoch 16/20\n",
            "6000/6000 [==============================] - 19s 3ms/step - loss: 0.0830 - accuracy: 0.9757 - val_loss: 0.4560 - val_accuracy: 0.8994\n",
            "Epoch 17/20\n",
            "6000/6000 [==============================] - 19s 3ms/step - loss: 0.0860 - accuracy: 0.9749 - val_loss: 0.4842 - val_accuracy: 0.9017\n",
            "Epoch 18/20\n",
            "6000/6000 [==============================] - 19s 3ms/step - loss: 0.0856 - accuracy: 0.9758 - val_loss: 0.4656 - val_accuracy: 0.9009\n",
            "Epoch 19/20\n",
            "6000/6000 [==============================] - 19s 3ms/step - loss: 0.0862 - accuracy: 0.9746 - val_loss: 0.4773 - val_accuracy: 0.9010\n",
            "Epoch 20/20\n",
            "6000/6000 [==============================] - 19s 3ms/step - loss: 0.0847 - accuracy: 0.9758 - val_loss: 0.4863 - val_accuracy: 0.9029\n"
          ],
          "name": "stdout"
        }
      ]
    },
    {
      "cell_type": "code",
      "metadata": {
        "id": "gtbD0W6ql8kk",
        "colab_type": "code",
        "colab": {
          "base_uri": "https://localhost:8080/",
          "height": 295
        },
        "outputId": "adeb20a1-a711-4166-d17f-9da6bb8981a7"
      },
      "source": [
        "# summarize history for accuracy\n",
        "plt.plot(history_fnewModel.history['accuracy'])\n",
        "plt.plot(history_fnewModel.history['val_accuracy'])\n",
        "plt.title('model accuracy')\n",
        "plt.ylabel('accuracy')\n",
        "plt.xlabel('epoch')\n",
        "plt.legend(['train', 'test'], loc='upper left')\n",
        "plt.show()"
      ],
      "execution_count": 14,
      "outputs": [
        {
          "output_type": "display_data",
          "data": {
            "image/png": "[encoded data removed]",
            "text/plain": [
              "<Figure size 432x288 with 1 Axes>"
            ]
          },
          "metadata": {
            "tags": [],
            "needs_background": "light"
          }
        }
      ]
    },
    {
      "cell_type": "markdown",
      "metadata": {
        "id": "C5zDjCrMmdyX",
        "colab_type": "text"
      },
      "source": [
        "USE FMNIST AS SOURCE AND MNIST AS TARGET"
      ]
    },
    {
      "cell_type": "code",
      "metadata": {
        "id": "IeVp3-59mkTP",
        "colab_type": "code",
        "colab": {
          "base_uri": "https://localhost:8080/",
          "height": 34
        },
        "outputId": "8e7ff268-f90f-4325-8fe8-31ebbec413bd"
      },
      "source": [
        "# Load the fashion-mnist pre-shuffled train data and test data\n",
        "(fx_train, fy_train), (fx_test, fy_test) = tf.keras.datasets.fashion_mnist.load_data()\n",
        "print(\"fx_train shape:\", fx_train.shape, \"fy_train shape:\", fy_train.shape)"
      ],
      "execution_count": 15,
      "outputs": [
        {
          "output_type": "stream",
          "text": [
            "fx_train shape: (60000, 28, 28) fy_train shape: (60000,)\n"
          ],
          "name": "stdout"
        }
      ]
    },
    {
      "cell_type": "code",
      "metadata": {
        "id": "4Z1C8BdkmxdK",
        "colab_type": "code",
        "colab": {}
      },
      "source": [
        "fx_train = fx_train.astype('float32') / 255\n",
        "fx_test = fx_test.astype('float32') / 255"
      ],
      "execution_count": 16,
      "outputs": []
    },
    {
      "cell_type": "code",
      "metadata": {
        "id": "njbIItS-mzey",
        "colab_type": "code",
        "colab": {}
      },
      "source": [
        "w, h = 28, 28\n",
        "fx_train = fx_train.reshape(fx_train.shape[0], w, h, 1)\n",
        "fx_test = fx_test.reshape(fx_test.shape[0], w, h, 1)\n",
        "\n",
        "# One-hot encode the labels\n",
        "fy_train = tf.keras.utils.to_categorical(fy_train, 10)\n",
        "fy_test = tf.keras.utils.to_categorical(fy_test, 10)"
      ],
      "execution_count": 17,
      "outputs": []
    },
    {
      "cell_type": "code",
      "metadata": {
        "id": "FKhxp3yhm1z-",
        "colab_type": "code",
        "colab": {}
      },
      "source": [
        "fmnist_model_scratch = tf.keras.Sequential()\n",
        "# Must define the input shape in the first layer of the neural network\n",
        "fmnist_model_scratch.add(tf.keras.layers.Conv2D(filters=64, kernel_size=2, padding='same', activation='relu', input_shape=(28,28,1))) \n",
        "fmnist_model_scratch.add(tf.keras.layers.MaxPooling2D(pool_size=2))\n",
        "fmnist_model_scratch.add(tf.keras.layers.Dropout(0.3))\n",
        "fmnist_model_scratch.add(tf.keras.layers.Conv2D(filters=32, kernel_size=2, padding='same', activation='relu'))\n",
        "fmnist_model_scratch.add(tf.keras.layers.MaxPooling2D(pool_size=2))\n",
        "fmnist_model_scratch.add(tf.keras.layers.Dropout(0.3))\n",
        "fmnist_model_scratch.add(tf.keras.layers.Flatten())\n",
        "fmnist_model_scratch.add(tf.keras.layers.Dense(256, activation='relu'))\n",
        "fmnist_model_scratch.add(tf.keras.layers.Dropout(0.5))\n",
        "fmnist_model_scratch.add(tf.keras.layers.Dense(10, activation='softmax'))\n",
        "# Take a look at the model summary\n",
        "#fmnist_model_scratch.summary()"
      ],
      "execution_count": 18,
      "outputs": []
    },
    {
      "cell_type": "code",
      "metadata": {
        "id": "nmxN1Y6Km4d_",
        "colab_type": "code",
        "colab": {}
      },
      "source": [
        "fmnist_model_scratch.compile(loss='categorical_crossentropy',\n",
        "             optimizer='adam',\n",
        "             metrics=['accuracy'])"
      ],
      "execution_count": 19,
      "outputs": []
    },
    {
      "cell_type": "code",
      "metadata": {
        "id": "5YaywiCWm7ux",
        "colab_type": "code",
        "colab": {
          "base_uri": "https://localhost:8080/",
          "height": 714
        },
        "outputId": "9237aa24-47c4-458d-8e50-dd5802bc1cfd"
      },
      "source": [
        "fmnist_model_scratch.fit(x=fx_train,\n",
        "         y=fy_train,\n",
        "         epochs=20)"
      ],
      "execution_count": 20,
      "outputs": [
        {
          "output_type": "stream",
          "text": [
            "Epoch 1/20\n",
            "1875/1875 [==============================] - 7s 4ms/step - loss: 0.5455 - accuracy: 0.7993\n",
            "Epoch 2/20\n",
            "1875/1875 [==============================] - 7s 4ms/step - loss: 0.3974 - accuracy: 0.8551\n",
            "Epoch 3/20\n",
            "1875/1875 [==============================] - 7s 4ms/step - loss: 0.3574 - accuracy: 0.8692\n",
            "Epoch 4/20\n",
            "1875/1875 [==============================] - 7s 4ms/step - loss: 0.3344 - accuracy: 0.8763\n",
            "Epoch 5/20\n",
            "1875/1875 [==============================] - 7s 4ms/step - loss: 0.3162 - accuracy: 0.8850\n",
            "Epoch 6/20\n",
            "1875/1875 [==============================] - 7s 4ms/step - loss: 0.3003 - accuracy: 0.8900\n",
            "Epoch 7/20\n",
            "1875/1875 [==============================] - 7s 4ms/step - loss: 0.2883 - accuracy: 0.8929\n",
            "Epoch 8/20\n",
            "1875/1875 [==============================] - 7s 4ms/step - loss: 0.2805 - accuracy: 0.8969\n",
            "Epoch 9/20\n",
            "1875/1875 [==============================] - 7s 4ms/step - loss: 0.2698 - accuracy: 0.8995\n",
            "Epoch 10/20\n",
            "1875/1875 [==============================] - 7s 4ms/step - loss: 0.2645 - accuracy: 0.9023\n",
            "Epoch 11/20\n",
            "1875/1875 [==============================] - 7s 4ms/step - loss: 0.2601 - accuracy: 0.9037\n",
            "Epoch 12/20\n",
            "1875/1875 [==============================] - 7s 4ms/step - loss: 0.2540 - accuracy: 0.9051\n",
            "Epoch 13/20\n",
            "1875/1875 [==============================] - 7s 4ms/step - loss: 0.2508 - accuracy: 0.9070\n",
            "Epoch 14/20\n",
            "1875/1875 [==============================] - 7s 4ms/step - loss: 0.2506 - accuracy: 0.9064\n",
            "Epoch 15/20\n",
            "1875/1875 [==============================] - 7s 4ms/step - loss: 0.2440 - accuracy: 0.9082\n",
            "Epoch 16/20\n",
            "1875/1875 [==============================] - 7s 4ms/step - loss: 0.2389 - accuracy: 0.9112\n",
            "Epoch 17/20\n",
            "1875/1875 [==============================] - 7s 4ms/step - loss: 0.2364 - accuracy: 0.9124\n",
            "Epoch 18/20\n",
            "1875/1875 [==============================] - 7s 4ms/step - loss: 0.2337 - accuracy: 0.9136\n",
            "Epoch 19/20\n",
            "1875/1875 [==============================] - 7s 4ms/step - loss: 0.2296 - accuracy: 0.9142\n",
            "Epoch 20/20\n",
            "1875/1875 [==============================] - 7s 4ms/step - loss: 0.2285 - accuracy: 0.9152\n"
          ],
          "name": "stdout"
        },
        {
          "output_type": "execute_result",
          "data": {
            "text/plain": [
              "<tensorflow.python.keras.callbacks.History at 0x7f486aff7f60>"
            ]
          },
          "metadata": {
            "tags": []
          },
          "execution_count": 20
        }
      ]
    },
    {
      "cell_type": "code",
      "metadata": {
        "id": "Fr7O8TVUntuU",
        "colab_type": "code",
        "colab": {
          "base_uri": "https://localhost:8080/",
          "height": 975
        },
        "outputId": "a94af01e-1bb0-4d8f-e9c0-e18c3df092ff"
      },
      "source": [
        "\n",
        "history_fmnist_model_scratch = fmnist_model_scratch.fit(fx_train, fy_train,epochs=20, batch_size=10, validation_data=(fx_test, fy_test), shuffle=True)\n",
        "# summarize history for accuracy\n",
        "plt.plot(history_fmnist_model_scratch.history['accuracy'])\n",
        "plt.plot(history_fmnist_model_scratch.history['val_accuracy'])\n",
        "plt.title('model accuracy')\n",
        "plt.ylabel('accuracy')\n",
        "plt.xlabel('epoch')\n",
        "plt.legend(['train', 'test'], loc='upper left')\n",
        "plt.show()\n",
        "\n",
        "\n",
        "# plt.plot(history_fnewModel.history['accuracy'])\n",
        "# plt.plot(history_fnewModel.history['val_accuracy'])\n",
        "# plt.title('model accuracy')\n",
        "# plt.ylabel('accuracy')\n",
        "# plt.xlabel('epoch')\n",
        "# plt.legend(['train', 'test'], loc='upper left')\n",
        "# plt.show()\n"
      ],
      "execution_count": 22,
      "outputs": [
        {
          "output_type": "stream",
          "text": [
            "Epoch 1/20\n",
            "6000/6000 [==============================] - 19s 3ms/step - loss: 0.2541 - accuracy: 0.9082 - val_loss: 0.2435 - val_accuracy: 0.9153\n",
            "Epoch 2/20\n",
            "6000/6000 [==============================] - 20s 3ms/step - loss: 0.2526 - accuracy: 0.9081 - val_loss: 0.2639 - val_accuracy: 0.9091\n",
            "Epoch 3/20\n",
            "6000/6000 [==============================] - 19s 3ms/step - loss: 0.2568 - accuracy: 0.9068 - val_loss: 0.2615 - val_accuracy: 0.9112\n",
            "Epoch 4/20\n",
            "6000/6000 [==============================] - 19s 3ms/step - loss: 0.2526 - accuracy: 0.9094 - val_loss: 0.2788 - val_accuracy: 0.9065\n",
            "Epoch 5/20\n",
            "6000/6000 [==============================] - 19s 3ms/step - loss: 0.2525 - accuracy: 0.9075 - val_loss: 0.2575 - val_accuracy: 0.9096\n",
            "Epoch 6/20\n",
            "6000/6000 [==============================] - 19s 3ms/step - loss: 0.2526 - accuracy: 0.9083 - val_loss: 0.2605 - val_accuracy: 0.9118\n",
            "Epoch 7/20\n",
            "6000/6000 [==============================] - 20s 3ms/step - loss: 0.2506 - accuracy: 0.9106 - val_loss: 0.2539 - val_accuracy: 0.9146\n",
            "Epoch 8/20\n",
            "6000/6000 [==============================] - 19s 3ms/step - loss: 0.2478 - accuracy: 0.9093 - val_loss: 0.2676 - val_accuracy: 0.9155\n",
            "Epoch 9/20\n",
            "6000/6000 [==============================] - 19s 3ms/step - loss: 0.2574 - accuracy: 0.9084 - val_loss: 0.2487 - val_accuracy: 0.9162\n",
            "Epoch 10/20\n",
            "6000/6000 [==============================] - 19s 3ms/step - loss: 0.2585 - accuracy: 0.9075 - val_loss: 0.2494 - val_accuracy: 0.9169\n",
            "Epoch 11/20\n",
            "6000/6000 [==============================] - 19s 3ms/step - loss: 0.2555 - accuracy: 0.9079 - val_loss: 0.2703 - val_accuracy: 0.9083\n",
            "Epoch 12/20\n",
            "6000/6000 [==============================] - 19s 3ms/step - loss: 0.2550 - accuracy: 0.9090 - val_loss: 0.2470 - val_accuracy: 0.9125\n",
            "Epoch 13/20\n",
            "6000/6000 [==============================] - 19s 3ms/step - loss: 0.2499 - accuracy: 0.9105 - val_loss: 0.2804 - val_accuracy: 0.9080\n",
            "Epoch 14/20\n",
            "6000/6000 [==============================] - 19s 3ms/step - loss: 0.2558 - accuracy: 0.9085 - val_loss: 0.2712 - val_accuracy: 0.9047\n",
            "Epoch 15/20\n",
            "6000/6000 [==============================] - 19s 3ms/step - loss: 0.2532 - accuracy: 0.9085 - val_loss: 0.2739 - val_accuracy: 0.9102\n",
            "Epoch 16/20\n",
            "6000/6000 [==============================] - 19s 3ms/step - loss: 0.2524 - accuracy: 0.9088 - val_loss: 0.2962 - val_accuracy: 0.9043\n",
            "Epoch 17/20\n",
            "6000/6000 [==============================] - 19s 3ms/step - loss: 0.2554 - accuracy: 0.9084 - val_loss: 0.2546 - val_accuracy: 0.9143\n",
            "Epoch 18/20\n",
            "6000/6000 [==============================] - 20s 3ms/step - loss: 0.2540 - accuracy: 0.9091 - val_loss: 0.2696 - val_accuracy: 0.9071\n",
            "Epoch 19/20\n",
            "6000/6000 [==============================] - 19s 3ms/step - loss: 0.2539 - accuracy: 0.9090 - val_loss: 0.2605 - val_accuracy: 0.9139\n",
            "Epoch 20/20\n",
            "6000/6000 [==============================] - 19s 3ms/step - loss: 0.2553 - accuracy: 0.9095 - val_loss: 0.2410 - val_accuracy: 0.9174\n"
          ],
          "name": "stdout"
        },
        {
          "output_type": "display_data",
          "data": {
            "image/png": "[encoded data removed]",
            "text/plain": [
              "<Figure size 432x288 with 1 Axes>"
            ]
          },
          "metadata": {
            "tags": [],
            "needs_background": "light"
          }
        }
      ]
    },
    {
      "cell_type": "markdown",
      "metadata": {
        "id": "yRYpPIf-nGjH",
        "colab_type": "text"
      },
      "source": [
        "Use fmnist_model as source for mnist"
      ]
    },
    {
      "cell_type": "code",
      "metadata": {
        "id": "gMOY3ls5nKwq",
        "colab_type": "code",
        "colab": {
          "base_uri": "https://localhost:8080/",
          "height": 714
        },
        "outputId": "3a0160b0-a331-455a-d13b-4c597b1d58e8"
      },
      "source": [
        "fnewModelMNIST = Model(inputs=fmnist_model_scratch.inputs, outputs=fmnist_model_scratch.layers[-2].output)\n",
        "\n",
        "\n",
        "flat1 = Flatten()(fmnist_model_scratch.layers[-1].output)\n",
        "output = Dense(1024, activation='relu')(flat1)\n",
        "output = Dense(10, activation='softmax')(class1)\n",
        "# define new model\n",
        "fnewModelMNIST = Model(inputs=fmnist_model_scratch.inputs, outputs=output)\n",
        "\n",
        "fnewModelMNIST.compile(optimizer='adam', \n",
        "                  loss='sparse_categorical_crossentropy', \n",
        "                  metrics=['accuracy'])\n",
        "\n",
        "fnewModelMNIST.fit(x=x_train,y=y_train, epochs=20)"
      ],
      "execution_count": 31,
      "outputs": [
        {
          "output_type": "stream",
          "text": [
            "Epoch 1/20\n",
            "1875/1875 [==============================] - 6s 3ms/step - loss: 1.9486 - accuracy: 0.3373\n",
            "Epoch 2/20\n",
            "1875/1875 [==============================] - 6s 3ms/step - loss: 1.9250 - accuracy: 0.3324\n",
            "Epoch 3/20\n",
            "1875/1875 [==============================] - 6s 3ms/step - loss: 1.8651 - accuracy: 0.3611\n",
            "Epoch 4/20\n",
            "1875/1875 [==============================] - 6s 3ms/step - loss: 1.8130 - accuracy: 0.3789\n",
            "Epoch 5/20\n",
            "1875/1875 [==============================] - 6s 3ms/step - loss: 1.7842 - accuracy: 0.3956\n",
            "Epoch 6/20\n",
            "1875/1875 [==============================] - 6s 3ms/step - loss: 1.7392 - accuracy: 0.4114\n",
            "Epoch 7/20\n",
            "1875/1875 [==============================] - 6s 3ms/step - loss: 1.7743 - accuracy: 0.3980\n",
            "Epoch 8/20\n",
            "1875/1875 [==============================] - 6s 3ms/step - loss: 1.8000 - accuracy: 0.3932\n",
            "Epoch 9/20\n",
            "1875/1875 [==============================] - 6s 3ms/step - loss: 1.7396 - accuracy: 0.4090\n",
            "Epoch 10/20\n",
            "1875/1875 [==============================] - 6s 3ms/step - loss: 1.7105 - accuracy: 0.4126\n",
            "Epoch 11/20\n",
            "1875/1875 [==============================] - 6s 3ms/step - loss: 1.6899 - accuracy: 0.4208\n",
            "Epoch 12/20\n",
            "1875/1875 [==============================] - 6s 3ms/step - loss: 1.7239 - accuracy: 0.4042\n",
            "Epoch 13/20\n",
            "1875/1875 [==============================] - 6s 3ms/step - loss: 1.7025 - accuracy: 0.4145\n",
            "Epoch 14/20\n",
            "1875/1875 [==============================] - 6s 3ms/step - loss: 1.6529 - accuracy: 0.4378\n",
            "Epoch 15/20\n",
            "1875/1875 [==============================] - 6s 3ms/step - loss: 1.6551 - accuracy: 0.4326\n",
            "Epoch 16/20\n",
            "1875/1875 [==============================] - 6s 3ms/step - loss: 1.6437 - accuracy: 0.4337\n",
            "Epoch 17/20\n",
            "1875/1875 [==============================] - 6s 3ms/step - loss: 1.6649 - accuracy: 0.4225\n",
            "Epoch 18/20\n",
            "1875/1875 [==============================] - 6s 3ms/step - loss: 1.6455 - accuracy: 0.4360\n",
            "Epoch 19/20\n",
            "1875/1875 [==============================] - 6s 3ms/step - loss: 1.6445 - accuracy: 0.4439\n",
            "Epoch 20/20\n",
            "1875/1875 [==============================] - 6s 3ms/step - loss: 1.7163 - accuracy: 0.4193\n"
          ],
          "name": "stdout"
        },
        {
          "output_type": "execute_result",
          "data": {
            "text/plain": [
              "<tensorflow.python.keras.callbacks.History at 0x7f48694b9630>"
            ]
          },
          "metadata": {
            "tags": []
          },
          "execution_count": 31
        }
      ]
    },
    {
      "cell_type": "code",
      "metadata": {
        "id": "rEBmikUvrCv3",
        "colab_type": "code",
        "colab": {
          "base_uri": "https://localhost:8080/",
          "height": 697
        },
        "outputId": "68992d5c-c736-467a-c943-071365f0af58"
      },
      "source": [
        "history_fnewModelMNIST = fnewModelMNIST.fit(x_train, y_train,epochs=20, batch_size=10, validation_data=(x_test, y_test), shuffle=True)"
      ],
      "execution_count": 32,
      "outputs": [
        {
          "output_type": "stream",
          "text": [
            "Epoch 1/20\n",
            "6000/6000 [==============================] - 18s 3ms/step - loss: 1.7513 - accuracy: 0.3995 - val_loss: 1.5942 - val_accuracy: 0.4578\n",
            "Epoch 2/20\n",
            "6000/6000 [==============================] - 18s 3ms/step - loss: 1.7323 - accuracy: 0.4022 - val_loss: 1.3741 - val_accuracy: 0.4999\n",
            "Epoch 3/20\n",
            "6000/6000 [==============================] - 18s 3ms/step - loss: 1.8068 - accuracy: 0.3654 - val_loss: 1.8912 - val_accuracy: 0.3027\n",
            "Epoch 4/20\n",
            "6000/6000 [==============================] - 18s 3ms/step - loss: 2.0700 - accuracy: 0.2465 - val_loss: 2.0068 - val_accuracy: 0.2478\n",
            "Epoch 5/20\n",
            "6000/6000 [==============================] - 19s 3ms/step - loss: 2.1042 - accuracy: 0.2291 - val_loss: 1.9401 - val_accuracy: 0.2628\n",
            "Epoch 6/20\n",
            "6000/6000 [==============================] - 18s 3ms/step - loss: 2.0667 - accuracy: 0.2536 - val_loss: 1.8663 - val_accuracy: 0.2744\n",
            "Epoch 7/20\n",
            "6000/6000 [==============================] - 18s 3ms/step - loss: 1.8830 - accuracy: 0.3323 - val_loss: 1.6117 - val_accuracy: 0.4177\n",
            "Epoch 8/20\n",
            "6000/6000 [==============================] - 18s 3ms/step - loss: 1.8431 - accuracy: 0.3588 - val_loss: 1.6157 - val_accuracy: 0.4144\n",
            "Epoch 9/20\n",
            "6000/6000 [==============================] - 18s 3ms/step - loss: 1.7245 - accuracy: 0.4036 - val_loss: 1.3821 - val_accuracy: 0.5079\n",
            "Epoch 10/20\n",
            "6000/6000 [==============================] - 18s 3ms/step - loss: 1.6844 - accuracy: 0.4180 - val_loss: 1.4946 - val_accuracy: 0.4526\n",
            "Epoch 11/20\n",
            "6000/6000 [==============================] - 18s 3ms/step - loss: 1.7298 - accuracy: 0.3932 - val_loss: 1.5474 - val_accuracy: 0.4265\n",
            "Epoch 12/20\n",
            "6000/6000 [==============================] - 18s 3ms/step - loss: 1.7015 - accuracy: 0.3963 - val_loss: 1.5012 - val_accuracy: 0.4421\n",
            "Epoch 13/20\n",
            "6000/6000 [==============================] - 18s 3ms/step - loss: 1.7133 - accuracy: 0.3767 - val_loss: 1.5218 - val_accuracy: 0.3975\n",
            "Epoch 14/20\n",
            "6000/6000 [==============================] - 18s 3ms/step - loss: 1.7452 - accuracy: 0.3628 - val_loss: 1.7197 - val_accuracy: 0.3405\n",
            "Epoch 15/20\n",
            "6000/6000 [==============================] - 18s 3ms/step - loss: 1.8333 - accuracy: 0.3425 - val_loss: 1.4928 - val_accuracy: 0.4277\n",
            "Epoch 16/20\n",
            "6000/6000 [==============================] - 18s 3ms/step - loss: 1.7979 - accuracy: 0.3572 - val_loss: 1.3985 - val_accuracy: 0.4593\n",
            "Epoch 17/20\n",
            "6000/6000 [==============================] - 18s 3ms/step - loss: 1.7581 - accuracy: 0.3717 - val_loss: 1.5550 - val_accuracy: 0.3997\n",
            "Epoch 18/20\n",
            "6000/6000 [==============================] - 18s 3ms/step - loss: 1.8232 - accuracy: 0.3452 - val_loss: 1.6696 - val_accuracy: 0.3618\n",
            "Epoch 19/20\n",
            "6000/6000 [==============================] - 18s 3ms/step - loss: 1.8349 - accuracy: 0.3398 - val_loss: 1.7149 - val_accuracy: 0.3656\n",
            "Epoch 20/20\n",
            "6000/6000 [==============================] - 18s 3ms/step - loss: 1.7708 - accuracy: 0.3593 - val_loss: 1.4149 - val_accuracy: 0.4423\n"
          ],
          "name": "stdout"
        }
      ]
    },
    {
      "cell_type": "code",
      "metadata": {
        "id": "7QEmDm91oR4Y",
        "colab_type": "code",
        "colab": {
          "base_uri": "https://localhost:8080/",
          "height": 295
        },
        "outputId": "eb8aab26-b843-4947-ca7b-c3b45d38c2e7"
      },
      "source": [
        "# summarize history for accuracy\n",
        "plt.plot(history_fnewModelMNIST.history['accuracy'])\n",
        "plt.plot(history_fnewModelMNIST.history['val_accuracy'])\n",
        "plt.title('model accuracy')\n",
        "plt.ylabel('accuracy')\n",
        "plt.xlabel('epoch')\n",
        "plt.legend(['train', 'test'], loc='upper left')\n",
        "plt.show()"
      ],
      "execution_count": 34,
      "outputs": [
        {
          "output_type": "display_data",
          "data": {
            "image/png": "[encoded data removed]",
            "text/plain": [
              "<Figure size 432x288 with 1 Axes>"
            ]
          },
          "metadata": {
            "tags": [],
            "needs_background": "light"
          }
        }
      ]
    },
    {
      "cell_type": "markdown",
      "metadata": {
        "id": "MNE0OYZZM_KK",
        "colab_type": "text"
      },
      "source": [
        "Now we will work with MNIST as source domain and FMNIST as target domain. (This is convenient, as they already have the same input shape.)\n",
        "Similar to 3.1, first train a model on the MNIST and use the pre-trained model as initialization for a model trained on FMNIST.\n",
        "Compare this transfer learned model with a model trained on FMNIST from scratch using the measures from 3.1.\n",
        "\n",
        "Repeat the experiment with FMNIST as source and MNIST as target!\n",
        "Does transfer learning work better or worse this time?\n",
        "1. MNIST as source and FMNIST as target: The transferred model is not generalizing well as compared to the model prepared from scratch.\n",
        "2. FMNIST as source and MNIST as target: Here the accuracy of the model is hampered and it is around 50 percent,\n"
      ]
    },
    {
      "cell_type": "markdown",
      "metadata": {
        "id": "hV-h8AQ-ooZF",
        "colab_type": "text"
      },
      "source": [
        "**Other Experiments**\n",
        "1. Freezing all pre-trained layers. (Trainable = False)\n",
        "2. Freezing only some bottom layers. (Trainable = False)\n",
        "3. Replace multiple top layers.\n",
        "4. Replace classification layer by more layers.\n",
        "\n",
        "I am experimenting these in similar datasets , MNIST 0-6 as source and MNIST 7-9 as target."
      ]
    },
    {
      "cell_type": "markdown",
      "metadata": {
        "id": "iD6cLkLGrPsq",
        "colab_type": "text"
      },
      "source": [
        "1. Freezing all pre-trained layers. (Trainable = false)"
      ]
    },
    {
      "cell_type": "code",
      "metadata": {
        "id": "3EeZ7gP5rWJj",
        "colab_type": "code",
        "colab": {}
      },
      "source": [
        "(x_train, y_train), (x_test, y_test) = tf.keras.datasets.mnist.load_data()"
      ],
      "execution_count": 35,
      "outputs": []
    },
    {
      "cell_type": "code",
      "metadata": {
        "id": "SeSwcnK3rzcB",
        "colab_type": "code",
        "colab": {}
      },
      "source": [
        "num_digits_to_classify = 7\n",
        "source_train_mask06 = np.isin(y_train,[0,1,2,3,4,5,6])\n",
        "source_test_mask06 = np.isin(y_test,[0,1,2,3,4,5,6])\n",
        "x_train06, y_train06 = x_train[source_train_mask06], y_train[source_train_mask06]\n",
        "x_test06, y_test06 = x_test[source_test_mask06], y_test[source_test_mask06]"
      ],
      "execution_count": 36,
      "outputs": []
    },
    {
      "cell_type": "code",
      "metadata": {
        "id": "fX8xIpaJueKt",
        "colab_type": "code",
        "colab": {}
      },
      "source": [
        "# Reshaping the array to 4-dims so that it can work with the Keras API\n",
        "x_train06 = x_train06.reshape(x_train06.shape[0], 28, 28, 1)\n",
        "x_test06 = x_test06.reshape(x_test06.shape[0], 28, 28, 1)\n",
        "input_shape = (28, 28, 1)\n",
        "# Making sure that the values are float so that we can get decimal points after division\n",
        "x_train06 = x_train06.astype('float32')\n",
        "x_test06 = x_test06.astype('float32')\n",
        "# Normalizing the RGB codes by dividing it to the max RGB value.\n",
        "x_train06 /= 255\n",
        "x_test06 /= 255"
      ],
      "execution_count": 37,
      "outputs": []
    },
    {
      "cell_type": "code",
      "metadata": {
        "id": "zG5H_fOLul9W",
        "colab_type": "code",
        "colab": {
          "base_uri": "https://localhost:8080/",
          "height": 1000
        },
        "outputId": "206c7420-38cf-4ca1-bacb-4cacbaa32af8"
      },
      "source": [
        "def create_model():\n",
        "    model = Sequential()\n",
        "    model.add(Conv2D(28, kernel_size=(3,3), activation='relu', input_shape=input_shape))\n",
        "    model.add(MaxPooling2D(pool_size=(2, 2)))\n",
        "    model.add(Flatten()) # Flattening the 2D arrays for fully connected layers\n",
        "    model.add(Dense(128, activation='relu'))\n",
        "    model.add(Dropout(0.2))\n",
        "    model.add(Dense(num_digits_to_classify,activation='softmax'))\n",
        "\n",
        "    model.compile(optimizer='adam', \n",
        "                  loss='sparse_categorical_crossentropy', \n",
        "                  metrics=['accuracy'])\n",
        "    return model\n",
        "\n",
        "model = create_model()\n",
        "model.summary()\n",
        "model.fit(x=x_train06,y=y_train06, epochs=20)\n",
        "history_model = model.fit(x_train06, y_train06, epochs=20, batch_size=10, validation_data=(x_test06, y_test06), shuffle=True)"
      ],
      "execution_count": 38,
      "outputs": [
        {
          "output_type": "stream",
          "text": [
            "Model: \"sequential_3\"\n",
            "_________________________________________________________________\n",
            "Layer (type)                 Output Shape              Param #   \n",
            "=================================================================\n",
            "conv2d_8 (Conv2D)            (None, 26, 26, 28)        280       \n",
            "_________________________________________________________________\n",
            "max_pooling2d_8 (MaxPooling2 (None, 13, 13, 28)        0         \n",
            "_________________________________________________________________\n",
            "flatten_11 (Flatten)         (None, 4732)              0         \n",
            "_________________________________________________________________\n",
            "dense_16 (Dense)             (None, 128)               605824    \n",
            "_________________________________________________________________\n",
            "dropout_3 (Dropout)          (None, 128)               0         \n",
            "_________________________________________________________________\n",
            "dense_17 (Dense)             (None, 7)                 903       \n",
            "=================================================================\n",
            "Total params: 607,007\n",
            "Trainable params: 607,007\n",
            "Non-trainable params: 0\n",
            "_________________________________________________________________\n",
            "Epoch 1/20\n",
            "1311/1311 [==============================] - 3s 3ms/step - loss: 0.1117 - accuracy: 0.9664\n",
            "Epoch 2/20\n",
            "1311/1311 [==============================] - 3s 3ms/step - loss: 0.0339 - accuracy: 0.9899\n",
            "Epoch 3/20\n",
            "1311/1311 [==============================] - 3s 3ms/step - loss: 0.0205 - accuracy: 0.9936\n",
            "Epoch 4/20\n",
            "1311/1311 [==============================] - 3s 3ms/step - loss: 0.0136 - accuracy: 0.9954\n",
            "Epoch 5/20\n",
            "1311/1311 [==============================] - 3s 3ms/step - loss: 0.0101 - accuracy: 0.9968\n",
            "Epoch 6/20\n",
            "1311/1311 [==============================] - 3s 3ms/step - loss: 0.0082 - accuracy: 0.9975\n",
            "Epoch 7/20\n",
            "1311/1311 [==============================] - 3s 3ms/step - loss: 0.0065 - accuracy: 0.9979\n",
            "Epoch 8/20\n",
            "1311/1311 [==============================] - 3s 3ms/step - loss: 0.0060 - accuracy: 0.9978\n",
            "Epoch 9/20\n",
            "1311/1311 [==============================] - 3s 2ms/step - loss: 0.0051 - accuracy: 0.9983\n",
            "Epoch 10/20\n",
            "1311/1311 [==============================] - 3s 3ms/step - loss: 0.0032 - accuracy: 0.9989\n",
            "Epoch 11/20\n",
            "1311/1311 [==============================] - 3s 3ms/step - loss: 0.0036 - accuracy: 0.9988\n",
            "Epoch 12/20\n",
            "1311/1311 [==============================] - 3s 3ms/step - loss: 0.0025 - accuracy: 0.9993\n",
            "Epoch 13/20\n",
            "1311/1311 [==============================] - 3s 3ms/step - loss: 0.0040 - accuracy: 0.9988\n",
            "Epoch 14/20\n",
            "1311/1311 [==============================] - 3s 3ms/step - loss: 0.0032 - accuracy: 0.9989\n",
            "Epoch 15/20\n",
            "1311/1311 [==============================] - 3s 3ms/step - loss: 0.0029 - accuracy: 0.9993\n",
            "Epoch 16/20\n",
            "1311/1311 [==============================] - 3s 3ms/step - loss: 0.0012 - accuracy: 0.9997\n",
            "Epoch 17/20\n",
            "1311/1311 [==============================] - 3s 3ms/step - loss: 0.0027 - accuracy: 0.9991\n",
            "Epoch 18/20\n",
            "1311/1311 [==============================] - 3s 2ms/step - loss: 0.0023 - accuracy: 0.9993\n",
            "Epoch 19/20\n",
            "1311/1311 [==============================] - 3s 2ms/step - loss: 0.0018 - accuracy: 0.9994\n",
            "Epoch 20/20\n",
            "1311/1311 [==============================] - 3s 2ms/step - loss: 0.0016 - accuracy: 0.9994\n",
            "Epoch 1/20\n",
            "4194/4194 [==============================] - 11s 3ms/step - loss: 0.0055 - accuracy: 0.9981 - val_loss: 0.0441 - val_accuracy: 0.9916\n",
            "Epoch 2/20\n",
            "4194/4194 [==============================] - 11s 3ms/step - loss: 0.0049 - accuracy: 0.9983 - val_loss: 0.0412 - val_accuracy: 0.9927\n",
            "Epoch 3/20\n",
            "4194/4194 [==============================] - 11s 3ms/step - loss: 0.0047 - accuracy: 0.9986 - val_loss: 0.0444 - val_accuracy: 0.9916\n",
            "Epoch 4/20\n",
            "4194/4194 [==============================] - 11s 3ms/step - loss: 0.0036 - accuracy: 0.9990 - val_loss: 0.0398 - val_accuracy: 0.9937\n",
            "Epoch 5/20\n",
            "4194/4194 [==============================] - 11s 3ms/step - loss: 0.0039 - accuracy: 0.9988 - val_loss: 0.0391 - val_accuracy: 0.9931\n",
            "Epoch 6/20\n",
            "4194/4194 [==============================] - 11s 3ms/step - loss: 0.0038 - accuracy: 0.9990 - val_loss: 0.0552 - val_accuracy: 0.9917\n",
            "Epoch 7/20\n",
            "4194/4194 [==============================] - 11s 3ms/step - loss: 0.0025 - accuracy: 0.9992 - val_loss: 0.0492 - val_accuracy: 0.9923\n",
            "Epoch 8/20\n",
            "4194/4194 [==============================] - 10s 2ms/step - loss: 0.0035 - accuracy: 0.9990 - val_loss: 0.0449 - val_accuracy: 0.9918\n",
            "Epoch 9/20\n",
            "4194/4194 [==============================] - 11s 3ms/step - loss: 0.0031 - accuracy: 0.9990 - val_loss: 0.0554 - val_accuracy: 0.9928\n",
            "Epoch 10/20\n",
            "4194/4194 [==============================] - 11s 3ms/step - loss: 0.0022 - accuracy: 0.9994 - val_loss: 0.0523 - val_accuracy: 0.9928\n",
            "Epoch 11/20\n",
            "4194/4194 [==============================] - 10s 2ms/step - loss: 0.0033 - accuracy: 0.9991 - val_loss: 0.0409 - val_accuracy: 0.9930\n",
            "Epoch 12/20\n",
            "4194/4194 [==============================] - 10s 2ms/step - loss: 0.0032 - accuracy: 0.9992 - val_loss: 0.0521 - val_accuracy: 0.9934\n",
            "Epoch 13/20\n",
            "4194/4194 [==============================] - 11s 3ms/step - loss: 0.0026 - accuracy: 0.9992 - val_loss: 0.0548 - val_accuracy: 0.9936\n",
            "Epoch 14/20\n",
            "4194/4194 [==============================] - 10s 2ms/step - loss: 0.0027 - accuracy: 0.9991 - val_loss: 0.0479 - val_accuracy: 0.9933\n",
            "Epoch 15/20\n",
            "4194/4194 [==============================] - 11s 3ms/step - loss: 0.0022 - accuracy: 0.9993 - val_loss: 0.0563 - val_accuracy: 0.9921\n",
            "Epoch 16/20\n",
            "4194/4194 [==============================] - 10s 2ms/step - loss: 0.0018 - accuracy: 0.9993 - val_loss: 0.0473 - val_accuracy: 0.9940\n",
            "Epoch 17/20\n",
            "4194/4194 [==============================] - 11s 3ms/step - loss: 0.0030 - accuracy: 0.9992 - val_loss: 0.0534 - val_accuracy: 0.9941\n",
            "Epoch 18/20\n",
            "4194/4194 [==============================] - 11s 3ms/step - loss: 0.0016 - accuracy: 0.9996 - val_loss: 0.0464 - val_accuracy: 0.9938\n",
            "Epoch 19/20\n",
            "4194/4194 [==============================] - 10s 2ms/step - loss: 0.0034 - accuracy: 0.9991 - val_loss: 0.0579 - val_accuracy: 0.9933\n",
            "Epoch 20/20\n",
            "4194/4194 [==============================] - 10s 2ms/step - loss: 0.0019 - accuracy: 0.9995 - val_loss: 0.0647 - val_accuracy: 0.9917\n"
          ],
          "name": "stdout"
        }
      ]
    },
    {
      "cell_type": "code",
      "metadata": {
        "id": "u8Nsp1Lxu3Ya",
        "colab_type": "code",
        "colab": {}
      },
      "source": [
        "target_train_mask79 = np.isin(y_train,[7,8,9])\n",
        "target_test_mask79 = np.isin(y_test,[7,8,9])\n",
        "\n",
        "\n",
        "x_train79, y_train79 = x_train[target_train_mask79], y_train[target_train_mask79]\n",
        "x_test79, y_test79 = x_test[target_test_mask79], y_test[target_test_mask79]\n",
        "\n",
        "\n",
        "\n",
        "x_train79 = x_train79.reshape(x_train79.shape[0], 28, 28, 1)\n",
        "x_test79 = x_test79.reshape(x_test79.shape[0], 28, 28, 1)\n",
        "input_shape = (28, 28, 1)\n",
        "# Making sure that the values are float so that we can get decimal points after division\n",
        "x_train79 = x_train79.astype('float32')\n",
        "x_test79 = x_test79.astype('float32')\n",
        "# Normalizing the RGB codes by dividing it to the max RGB value.\n",
        "x_train79 /= 255\n",
        "x_test79 /= 255\n",
        "\n",
        "y_train79 -= 7\n",
        "y_test79 -= 7"
      ],
      "execution_count": 39,
      "outputs": []
    },
    {
      "cell_type": "code",
      "metadata": {
        "id": "nZxaLKMdvyzc",
        "colab_type": "code",
        "colab": {}
      },
      "source": [
        "for layer in model.layers:\n",
        "    layer.trainable = False"
      ],
      "execution_count": 41,
      "outputs": []
    },
    {
      "cell_type": "code",
      "metadata": {
        "id": "B5yaL56YvDe8",
        "colab_type": "code",
        "colab": {
          "base_uri": "https://localhost:8080/",
          "height": 1000
        },
        "outputId": "750128a3-6a4d-41e2-f8bb-cf300fd12d17"
      },
      "source": [
        "newModel = Model(inputs=model.inputs, outputs=model.layers[-2].output)\n",
        "\n",
        "\n",
        "flat1 = Flatten()(model.layers[-1].output)\n",
        "#class1 = Dense(1024, activation='relu')(flat1)\n",
        "output = Dense(3, activation='softmax')(flat1)\n",
        "# define new model\n",
        "newModel = Model(inputs=model.inputs, outputs=output)\n",
        "# summarize\n",
        "newModel.summary()\n",
        "newModel.compile(optimizer='adam', \n",
        "                  loss='sparse_categorical_crossentropy', \n",
        "                  metrics=['accuracy'])\n",
        "\n",
        "newModel.fit(x=x_train79,y=y_train79, epochs=20)\n",
        "history_newmodel = newModel.fit(x_train79, y_train79, epochs=20, batch_size=10,validation_data=(x_test79, y_test79), shuffle=True)"
      ],
      "execution_count": 42,
      "outputs": [
        {
          "output_type": "stream",
          "text": [
            "Model: \"functional_29\"\n",
            "_________________________________________________________________\n",
            "Layer (type)                 Output Shape              Param #   \n",
            "=================================================================\n",
            "conv2d_8_input (InputLayer)  [(None, 28, 28, 1)]       0         \n",
            "_________________________________________________________________\n",
            "conv2d_8 (Conv2D)            (None, 26, 26, 28)        280       \n",
            "_________________________________________________________________\n",
            "max_pooling2d_8 (MaxPooling2 (None, 13, 13, 28)        0         \n",
            "_________________________________________________________________\n",
            "flatten_11 (Flatten)         (None, 4732)              0         \n",
            "_________________________________________________________________\n",
            "dense_16 (Dense)             (None, 128)               605824    \n",
            "_________________________________________________________________\n",
            "dropout_3 (Dropout)          (None, 128)               0         \n",
            "_________________________________________________________________\n",
            "dense_17 (Dense)             (None, 7)                 903       \n",
            "_________________________________________________________________\n",
            "flatten_12 (Flatten)         (None, 7)                 0         \n",
            "_________________________________________________________________\n",
            "dense_18 (Dense)             (None, 3)                 24        \n",
            "=================================================================\n",
            "Total params: 607,031\n",
            "Trainable params: 24\n",
            "Non-trainable params: 607,007\n",
            "_________________________________________________________________\n",
            "Epoch 1/20\n",
            "565/565 [==============================] - 1s 2ms/step - loss: 1.0573 - accuracy: 0.4929\n",
            "Epoch 2/20\n",
            "565/565 [==============================] - 1s 2ms/step - loss: 0.9372 - accuracy: 0.5647\n",
            "Epoch 3/20\n",
            "565/565 [==============================] - 1s 2ms/step - loss: 0.8858 - accuracy: 0.5883\n",
            "Epoch 4/20\n",
            "565/565 [==============================] - 1s 2ms/step - loss: 0.8661 - accuracy: 0.5975\n",
            "Epoch 5/20\n",
            "565/565 [==============================] - 1s 2ms/step - loss: 0.8539 - accuracy: 0.5970\n",
            "Epoch 6/20\n",
            "565/565 [==============================] - 1s 2ms/step - loss: 0.8441 - accuracy: 0.6013\n",
            "Epoch 7/20\n",
            "565/565 [==============================] - 1s 2ms/step - loss: 0.8411 - accuracy: 0.6013\n",
            "Epoch 8/20\n",
            "565/565 [==============================] - 1s 2ms/step - loss: 0.8359 - accuracy: 0.6059\n",
            "Epoch 9/20\n",
            "565/565 [==============================] - 1s 2ms/step - loss: 0.8395 - accuracy: 0.6035\n",
            "Epoch 10/20\n",
            "565/565 [==============================] - 1s 2ms/step - loss: 0.8404 - accuracy: 0.5992\n",
            "Epoch 11/20\n",
            "565/565 [==============================] - 1s 2ms/step - loss: 0.8380 - accuracy: 0.6014\n",
            "Epoch 12/20\n",
            "565/565 [==============================] - 1s 2ms/step - loss: 0.8401 - accuracy: 0.6008\n",
            "Epoch 13/20\n",
            "565/565 [==============================] - 1s 2ms/step - loss: 0.8396 - accuracy: 0.6011\n",
            "Epoch 14/20\n",
            "565/565 [==============================] - 1s 2ms/step - loss: 0.8396 - accuracy: 0.6005\n",
            "Epoch 15/20\n",
            "565/565 [==============================] - 1s 2ms/step - loss: 0.8443 - accuracy: 0.5989\n",
            "Epoch 16/20\n",
            "565/565 [==============================] - 1s 2ms/step - loss: 0.8395 - accuracy: 0.6023\n",
            "Epoch 17/20\n",
            "565/565 [==============================] - 1s 2ms/step - loss: 0.8382 - accuracy: 0.6010\n",
            "Epoch 18/20\n",
            "565/565 [==============================] - 1s 2ms/step - loss: 0.8398 - accuracy: 0.6019\n",
            "Epoch 19/20\n",
            "565/565 [==============================] - 1s 2ms/step - loss: 0.8396 - accuracy: 0.6023\n",
            "Epoch 20/20\n",
            "565/565 [==============================] - 1s 2ms/step - loss: 0.8404 - accuracy: 0.6024\n",
            "Epoch 1/20\n",
            "1807/1807 [==============================] - 4s 2ms/step - loss: 0.8394 - accuracy: 0.6015 - val_loss: 0.8198 - val_accuracy: 0.6154\n",
            "Epoch 2/20\n",
            "1807/1807 [==============================] - 4s 2ms/step - loss: 0.8338 - accuracy: 0.6042 - val_loss: 0.8199 - val_accuracy: 0.6144\n",
            "Epoch 3/20\n",
            "1807/1807 [==============================] - 4s 2ms/step - loss: 0.8378 - accuracy: 0.6011 - val_loss: 0.8197 - val_accuracy: 0.6171\n",
            "Epoch 4/20\n",
            "1807/1807 [==============================] - 4s 2ms/step - loss: 0.8391 - accuracy: 0.6022 - val_loss: 0.8199 - val_accuracy: 0.6171\n",
            "Epoch 5/20\n",
            "1807/1807 [==============================] - 4s 2ms/step - loss: 0.8418 - accuracy: 0.6006 - val_loss: 0.8198 - val_accuracy: 0.6171\n",
            "Epoch 6/20\n",
            "1807/1807 [==============================] - 4s 2ms/step - loss: 0.8360 - accuracy: 0.6019 - val_loss: 0.8200 - val_accuracy: 0.6201\n",
            "Epoch 7/20\n",
            "1807/1807 [==============================] - 4s 2ms/step - loss: 0.8385 - accuracy: 0.6030 - val_loss: 0.8201 - val_accuracy: 0.6181\n",
            "Epoch 8/20\n",
            "1807/1807 [==============================] - 4s 2ms/step - loss: 0.8377 - accuracy: 0.6036 - val_loss: 0.8198 - val_accuracy: 0.6157\n",
            "Epoch 9/20\n",
            "1807/1807 [==============================] - 4s 2ms/step - loss: 0.8424 - accuracy: 0.6008 - val_loss: 0.8204 - val_accuracy: 0.6181\n",
            "Epoch 10/20\n",
            "1807/1807 [==============================] - 4s 2ms/step - loss: 0.8389 - accuracy: 0.6016 - val_loss: 0.8200 - val_accuracy: 0.6177\n",
            "Epoch 11/20\n",
            "1807/1807 [==============================] - 4s 2ms/step - loss: 0.8349 - accuracy: 0.6058 - val_loss: 0.8201 - val_accuracy: 0.6177\n",
            "Epoch 12/20\n",
            "1807/1807 [==============================] - 4s 2ms/step - loss: 0.8377 - accuracy: 0.6024 - val_loss: 0.8205 - val_accuracy: 0.6181\n",
            "Epoch 13/20\n",
            "1807/1807 [==============================] - 4s 2ms/step - loss: 0.8358 - accuracy: 0.6048 - val_loss: 0.8201 - val_accuracy: 0.6151\n",
            "Epoch 14/20\n",
            "1807/1807 [==============================] - 4s 2ms/step - loss: 0.8402 - accuracy: 0.6000 - val_loss: 0.8206 - val_accuracy: 0.6161\n",
            "Epoch 15/20\n",
            "1807/1807 [==============================] - 4s 2ms/step - loss: 0.8404 - accuracy: 0.6023 - val_loss: 0.8205 - val_accuracy: 0.6164\n",
            "Epoch 16/20\n",
            "1807/1807 [==============================] - 4s 2ms/step - loss: 0.8374 - accuracy: 0.6028 - val_loss: 0.8199 - val_accuracy: 0.6167\n",
            "Epoch 17/20\n",
            "1807/1807 [==============================] - 4s 2ms/step - loss: 0.8382 - accuracy: 0.6022 - val_loss: 0.8194 - val_accuracy: 0.6167\n",
            "Epoch 18/20\n",
            "1807/1807 [==============================] - 4s 2ms/step - loss: 0.8367 - accuracy: 0.6032 - val_loss: 0.8199 - val_accuracy: 0.6161\n",
            "Epoch 19/20\n",
            "1807/1807 [==============================] - 4s 2ms/step - loss: 0.8360 - accuracy: 0.6035 - val_loss: 0.8208 - val_accuracy: 0.6154\n",
            "Epoch 20/20\n",
            "1807/1807 [==============================] - 4s 2ms/step - loss: 0.8388 - accuracy: 0.6027 - val_loss: 0.8204 - val_accuracy: 0.6197\n"
          ],
          "name": "stdout"
        }
      ]
    },
    {
      "cell_type": "code",
      "metadata": {
        "id": "gncO1uay1l5g",
        "colab_type": "code",
        "colab": {
          "base_uri": "https://localhost:8080/",
          "height": 295
        },
        "outputId": "0aa233de-8139-4cce-cf2b-20fe42ed5769"
      },
      "source": [
        "# summarize history for accuracy\n",
        "plt.plot(history_newmodel.history['accuracy'])\n",
        "plt.plot(history_newmodel.history['val_accuracy'])\n",
        "plt.title('model accuracy')\n",
        "plt.ylabel('accuracy')\n",
        "plt.xlabel('epoch')\n",
        "plt.legend(['train', 'test'], loc='upper left')\n",
        "plt.show()"
      ],
      "execution_count": 43,
      "outputs": [
        {
          "output_type": "display_data",
          "data": {
            "image/png": "[encoded data removed]",
            "text/plain": [
              "<Figure size 432x288 with 1 Axes>"
            ]
          },
          "metadata": {
            "tags": [],
            "needs_background": "light"
          }
        }
      ]
    },
    {
      "cell_type": "markdown",
      "metadata": {
        "id": "fmvOlMDs0JJi",
        "colab_type": "text"
      },
      "source": [
        "2. Freezing some layers"
      ]
    },
    {
      "cell_type": "code",
      "metadata": {
        "id": "fxMhcDan0MHy",
        "colab_type": "code",
        "colab": {
          "base_uri": "https://localhost:8080/",
          "height": 459
        },
        "outputId": "4d303898-8ba4-42ba-daba-7d53b4d2c90a"
      },
      "source": [
        "def create_model():\n",
        "    model = Sequential()\n",
        "    \n",
        "    model.add(Conv2D(28, kernel_size=(3,3), activation='relu', input_shape=input_shape))\n",
        "    model.add(MaxPooling2D(pool_size=(2, 2)))\n",
        "    model.add(Conv2D(filters=64, kernel_size=(3,3), activation='relu', padding='same'))\n",
        "    model.add(MaxPooling2D(pool_size=(2,2)))\n",
        "    model.add(Conv2D(filters=64, kernel_size=(3,3), activation='relu', padding='same'))\n",
        "    model.add(Flatten()) # Flattening the 2D arrays for fully connected layers\n",
        "    model.add(Dense(128, activation='relu'))\n",
        "    model.add(Dropout(0.2))\n",
        "    model.add(Dense(num_digits_to_classify,activation='softmax'))\n",
        "\n",
        "    model.compile(optimizer='adam', \n",
        "                  loss='sparse_categorical_crossentropy', \n",
        "                  metrics=['accuracy'])\n",
        "    return model\n",
        "\n",
        "model = create_model()\n",
        "model.summary()\n"
      ],
      "execution_count": 51,
      "outputs": [
        {
          "output_type": "stream",
          "text": [
            "Model: \"sequential_6\"\n",
            "_________________________________________________________________\n",
            "Layer (type)                 Output Shape              Param #   \n",
            "=================================================================\n",
            "conv2d_13 (Conv2D)           (None, 26, 26, 28)        280       \n",
            "_________________________________________________________________\n",
            "max_pooling2d_12 (MaxPooling (None, 13, 13, 28)        0         \n",
            "_________________________________________________________________\n",
            "conv2d_14 (Conv2D)           (None, 13, 13, 64)        16192     \n",
            "_________________________________________________________________\n",
            "max_pooling2d_13 (MaxPooling (None, 6, 6, 64)          0         \n",
            "_________________________________________________________________\n",
            "conv2d_15 (Conv2D)           (None, 6, 6, 64)          36928     \n",
            "_________________________________________________________________\n",
            "flatten_14 (Flatten)         (None, 2304)              0         \n",
            "_________________________________________________________________\n",
            "dense_21 (Dense)             (None, 128)               295040    \n",
            "_________________________________________________________________\n",
            "dropout_5 (Dropout)          (None, 128)               0         \n",
            "_________________________________________________________________\n",
            "dense_22 (Dense)             (None, 7)                 903       \n",
            "=================================================================\n",
            "Total params: 349,343\n",
            "Trainable params: 349,343\n",
            "Non-trainable params: 0\n",
            "_________________________________________________________________\n"
          ],
          "name": "stdout"
        }
      ]
    },
    {
      "cell_type": "code",
      "metadata": {
        "id": "3Tym8fj83j4D",
        "colab_type": "code",
        "colab": {
          "base_uri": "https://localhost:8080/",
          "height": 1000
        },
        "outputId": "69fc5687-551d-4f55-dca6-2bdea43271d5"
      },
      "source": [
        "model.fit(x=x_train06,y=y_train06, epochs=20)\n",
        "history_model = model.fit(x_train06, y_train06, epochs=20, batch_size=10, validation_data=(x_test06, y_test06), shuffle=True)"
      ],
      "execution_count": 52,
      "outputs": [
        {
          "output_type": "stream",
          "text": [
            "Epoch 1/20\n",
            "1311/1311 [==============================] - 4s 3ms/step - loss: 0.0905 - accuracy: 0.9714\n",
            "Epoch 2/20\n",
            "1311/1311 [==============================] - 4s 3ms/step - loss: 0.0264 - accuracy: 0.9924\n",
            "Epoch 3/20\n",
            "1311/1311 [==============================] - 4s 3ms/step - loss: 0.0189 - accuracy: 0.9941\n",
            "Epoch 4/20\n",
            "1311/1311 [==============================] - 4s 3ms/step - loss: 0.0153 - accuracy: 0.9953\n",
            "Epoch 5/20\n",
            "1311/1311 [==============================] - 4s 3ms/step - loss: 0.0118 - accuracy: 0.9965\n",
            "Epoch 6/20\n",
            "1311/1311 [==============================] - 4s 3ms/step - loss: 0.0093 - accuracy: 0.9969\n",
            "Epoch 7/20\n",
            "1311/1311 [==============================] - 4s 3ms/step - loss: 0.0082 - accuracy: 0.9973\n",
            "Epoch 8/20\n",
            "1311/1311 [==============================] - 4s 3ms/step - loss: 0.0070 - accuracy: 0.9978\n",
            "Epoch 9/20\n",
            "1311/1311 [==============================] - 4s 3ms/step - loss: 0.0066 - accuracy: 0.9981\n",
            "Epoch 10/20\n",
            "1311/1311 [==============================] - 4s 3ms/step - loss: 0.0038 - accuracy: 0.9988\n",
            "Epoch 11/20\n",
            "1311/1311 [==============================] - 4s 3ms/step - loss: 0.0063 - accuracy: 0.9978\n",
            "Epoch 12/20\n",
            "1311/1311 [==============================] - 4s 3ms/step - loss: 0.0054 - accuracy: 0.9985\n",
            "Epoch 13/20\n",
            "1311/1311 [==============================] - 4s 3ms/step - loss: 0.0037 - accuracy: 0.9988\n",
            "Epoch 14/20\n",
            "1311/1311 [==============================] - 4s 3ms/step - loss: 0.0035 - accuracy: 0.9988\n",
            "Epoch 15/20\n",
            "1311/1311 [==============================] - 4s 3ms/step - loss: 0.0046 - accuracy: 0.9985\n",
            "Epoch 16/20\n",
            "1311/1311 [==============================] - 4s 3ms/step - loss: 0.0037 - accuracy: 0.9986\n",
            "Epoch 17/20\n",
            "1311/1311 [==============================] - 4s 3ms/step - loss: 0.0023 - accuracy: 0.9994\n",
            "Epoch 18/20\n",
            "1311/1311 [==============================] - 4s 3ms/step - loss: 0.0056 - accuracy: 0.9986\n",
            "Epoch 19/20\n",
            "1311/1311 [==============================] - 4s 3ms/step - loss: 0.0037 - accuracy: 0.9989\n",
            "Epoch 20/20\n",
            "1311/1311 [==============================] - 4s 3ms/step - loss: 0.0033 - accuracy: 0.9992\n",
            "Epoch 1/20\n",
            "4194/4194 [==============================] - 12s 3ms/step - loss: 0.0102 - accuracy: 0.9978 - val_loss: 0.0318 - val_accuracy: 0.9930\n",
            "Epoch 2/20\n",
            "4194/4194 [==============================] - 12s 3ms/step - loss: 0.0078 - accuracy: 0.9977 - val_loss: 0.0518 - val_accuracy: 0.9937\n",
            "Epoch 3/20\n",
            "4194/4194 [==============================] - 12s 3ms/step - loss: 0.0066 - accuracy: 0.9981 - val_loss: 0.0405 - val_accuracy: 0.9941\n",
            "Epoch 4/20\n",
            "4194/4194 [==============================] - 12s 3ms/step - loss: 0.0101 - accuracy: 0.9976 - val_loss: 0.0388 - val_accuracy: 0.9940\n",
            "Epoch 5/20\n",
            "4194/4194 [==============================] - 12s 3ms/step - loss: 0.0079 - accuracy: 0.9980 - val_loss: 0.0369 - val_accuracy: 0.9951\n",
            "Epoch 6/20\n",
            "4194/4194 [==============================] - 12s 3ms/step - loss: 0.0068 - accuracy: 0.9984 - val_loss: 0.0452 - val_accuracy: 0.9943\n",
            "Epoch 7/20\n",
            "4194/4194 [==============================] - 12s 3ms/step - loss: 0.0099 - accuracy: 0.9978 - val_loss: 0.1611 - val_accuracy: 0.9867\n",
            "Epoch 8/20\n",
            "4194/4194 [==============================] - 12s 3ms/step - loss: 0.0104 - accuracy: 0.9978 - val_loss: 0.0523 - val_accuracy: 0.9943\n",
            "Epoch 9/20\n",
            "4194/4194 [==============================] - 12s 3ms/step - loss: 0.0079 - accuracy: 0.9984 - val_loss: 0.0425 - val_accuracy: 0.9954\n",
            "Epoch 10/20\n",
            "4194/4194 [==============================] - 12s 3ms/step - loss: 0.0067 - accuracy: 0.9987 - val_loss: 0.0441 - val_accuracy: 0.9950\n",
            "Epoch 11/20\n",
            "4194/4194 [==============================] - 12s 3ms/step - loss: 0.0088 - accuracy: 0.9983 - val_loss: 0.0820 - val_accuracy: 0.9910\n",
            "Epoch 12/20\n",
            "4194/4194 [==============================] - 12s 3ms/step - loss: 0.0065 - accuracy: 0.9984 - val_loss: 0.0654 - val_accuracy: 0.9931\n",
            "Epoch 13/20\n",
            "4194/4194 [==============================] - 12s 3ms/step - loss: 0.0064 - accuracy: 0.9988 - val_loss: 0.0674 - val_accuracy: 0.9941\n",
            "Epoch 14/20\n",
            "4194/4194 [==============================] - 12s 3ms/step - loss: 0.0111 - accuracy: 0.9983 - val_loss: 0.0746 - val_accuracy: 0.9941\n",
            "Epoch 15/20\n",
            "4194/4194 [==============================] - 12s 3ms/step - loss: 0.0079 - accuracy: 0.9986 - val_loss: 0.0833 - val_accuracy: 0.9938\n",
            "Epoch 16/20\n",
            "4194/4194 [==============================] - 12s 3ms/step - loss: 0.0073 - accuracy: 0.9988 - val_loss: 0.0612 - val_accuracy: 0.9948\n",
            "Epoch 17/20\n",
            "4194/4194 [==============================] - 12s 3ms/step - loss: 0.0088 - accuracy: 0.9984 - val_loss: 0.0666 - val_accuracy: 0.9934\n",
            "Epoch 18/20\n",
            "4194/4194 [==============================] - 12s 3ms/step - loss: 0.0065 - accuracy: 0.9988 - val_loss: 0.0872 - val_accuracy: 0.9934\n",
            "Epoch 19/20\n",
            "4194/4194 [==============================] - 12s 3ms/step - loss: 0.0076 - accuracy: 0.9985 - val_loss: 0.0551 - val_accuracy: 0.9948\n",
            "Epoch 20/20\n",
            "4194/4194 [==============================] - 12s 3ms/step - loss: 0.0094 - accuracy: 0.9988 - val_loss: 0.0652 - val_accuracy: 0.9946\n"
          ],
          "name": "stdout"
        }
      ]
    },
    {
      "cell_type": "code",
      "metadata": {
        "id": "S1v9Q2Lo5LCu",
        "colab_type": "code",
        "colab": {}
      },
      "source": [
        "target_train_mask79 = np.isin(y_train,[7,8,9])\n",
        "target_test_mask79 = np.isin(y_test,[7,8,9])\n",
        "\n",
        "\n",
        "x_train79, y_train79 = x_train[target_train_mask79], y_train[target_train_mask79]\n",
        "x_test79, y_test79 = x_test[target_test_mask79], y_test[target_test_mask79]\n",
        "\n",
        "\n",
        "\n",
        "x_train79 = x_train79.reshape(x_train79.shape[0], 28, 28, 1)\n",
        "x_test79 = x_test79.reshape(x_test79.shape[0], 28, 28, 1)\n",
        "input_shape = (28, 28, 1)\n",
        "# Making sure that the values are float so that we can get decimal points after division\n",
        "x_train79 = x_train79.astype('float32')\n",
        "x_test79 = x_test79.astype('float32')\n",
        "# Normalizing the RGB codes by dividing it to the max RGB value.\n",
        "x_train79 /= 255\n",
        "x_test79 /= 255\n",
        "\n",
        "y_train79 -= 7\n",
        "y_test79 -= 7"
      ],
      "execution_count": 53,
      "outputs": []
    },
    {
      "cell_type": "code",
      "metadata": {
        "id": "cIjC09id454t",
        "colab_type": "code",
        "colab": {
          "base_uri": "https://localhost:8080/",
          "height": 170
        },
        "outputId": "f9b3ae88-9485-40fc-87ed-1f032f11df24"
      },
      "source": [
        "for layer in model.layers:\n",
        "  print(layer.name) "
      ],
      "execution_count": 54,
      "outputs": [
        {
          "output_type": "stream",
          "text": [
            "conv2d_13\n",
            "max_pooling2d_12\n",
            "conv2d_14\n",
            "max_pooling2d_13\n",
            "conv2d_15\n",
            "flatten_14\n",
            "dense_21\n",
            "dropout_5\n",
            "dense_22\n"
          ],
          "name": "stdout"
        }
      ]
    },
    {
      "cell_type": "code",
      "metadata": {
        "id": "P2FP_5JU5GbZ",
        "colab_type": "code",
        "colab": {}
      },
      "source": [
        "for layer in model.layers:\n",
        "  if ('max_pooling2d' in layer.name):\n",
        "    layer.trainable = False"
      ],
      "execution_count": 55,
      "outputs": []
    },
    {
      "cell_type": "code",
      "metadata": {
        "id": "NLxu-Qqq5XVF",
        "colab_type": "code",
        "colab": {
          "base_uri": "https://localhost:8080/",
          "height": 1000
        },
        "outputId": "6b0e7b05-d168-445c-d68f-dd2bd69e1d7c"
      },
      "source": [
        "newModel = Model(inputs=model.inputs, outputs=model.layers[-2].output)\n",
        "\n",
        "\n",
        "flat1 = Flatten()(model.layers[-1].output)\n",
        "#class1 = Dense(1024, activation='relu')(flat1)\n",
        "output = Dense(3, activation='softmax')(flat1)\n",
        "# define new model\n",
        "newModel = Model(inputs=model.inputs, outputs=output)\n",
        "\n",
        "newModel.compile(optimizer='adam', \n",
        "                  loss='sparse_categorical_crossentropy', \n",
        "                  metrics=['accuracy'])\n",
        "\n",
        "newModel.fit(x=x_train79,y=y_train79, epochs=20)\n",
        "history_newmodel = newModel.fit(x_train79, y_train79, epochs=20, batch_size=10,validation_data=(x_test79, y_test79), shuffle=True)"
      ],
      "execution_count": 57,
      "outputs": [
        {
          "output_type": "stream",
          "text": [
            "Epoch 1/20\n",
            "565/565 [==============================] - 2s 3ms/step - loss: 0.6110 - accuracy: 0.9942\n",
            "Epoch 2/20\n",
            "565/565 [==============================] - 2s 3ms/step - loss: 0.3136 - accuracy: 0.9949\n",
            "Epoch 3/20\n",
            "565/565 [==============================] - 2s 3ms/step - loss: 0.1839 - accuracy: 0.9940\n",
            "Epoch 4/20\n",
            "565/565 [==============================] - 2s 3ms/step - loss: 0.1136 - accuracy: 0.9965\n",
            "Epoch 5/20\n",
            "565/565 [==============================] - 2s 3ms/step - loss: 0.0804 - accuracy: 0.9963\n",
            "Epoch 6/20\n",
            "565/565 [==============================] - 2s 3ms/step - loss: 0.0727 - accuracy: 0.9931\n",
            "Epoch 7/20\n",
            "565/565 [==============================] - 2s 3ms/step - loss: 0.0549 - accuracy: 0.9949\n",
            "Epoch 8/20\n",
            "565/565 [==============================] - 2s 3ms/step - loss: 0.0478 - accuracy: 0.9949\n",
            "Epoch 9/20\n",
            "565/565 [==============================] - 2s 3ms/step - loss: 0.0544 - accuracy: 0.9922\n",
            "Epoch 10/20\n",
            "565/565 [==============================] - 2s 3ms/step - loss: 0.0350 - accuracy: 0.9959\n",
            "Epoch 11/20\n",
            "565/565 [==============================] - 2s 3ms/step - loss: 0.0435 - accuracy: 0.9938\n",
            "Epoch 12/20\n",
            "565/565 [==============================] - 2s 3ms/step - loss: 0.0282 - accuracy: 0.9966\n",
            "Epoch 13/20\n",
            "565/565 [==============================] - 2s 3ms/step - loss: 0.0329 - accuracy: 0.9954\n",
            "Epoch 14/20\n",
            "565/565 [==============================] - 2s 3ms/step - loss: 0.0336 - accuracy: 0.9951\n",
            "Epoch 15/20\n",
            "565/565 [==============================] - 2s 3ms/step - loss: 0.0244 - accuracy: 0.9967\n",
            "Epoch 16/20\n",
            "565/565 [==============================] - 2s 3ms/step - loss: 0.0262 - accuracy: 0.9965\n",
            "Epoch 17/20\n",
            "565/565 [==============================] - 2s 3ms/step - loss: 0.0254 - accuracy: 0.9965\n",
            "Epoch 18/20\n",
            "565/565 [==============================] - 2s 3ms/step - loss: 0.0283 - accuracy: 0.9957\n",
            "Epoch 19/20\n",
            "565/565 [==============================] - 2s 3ms/step - loss: 0.0396 - accuracy: 0.9940\n",
            "Epoch 20/20\n",
            "565/565 [==============================] - 2s 3ms/step - loss: 0.0657 - accuracy: 0.9895\n",
            "Epoch 1/20\n",
            "1807/1807 [==============================] - 5s 3ms/step - loss: 0.0567 - accuracy: 0.9909 - val_loss: 0.0820 - val_accuracy: 0.9864\n",
            "Epoch 2/20\n",
            "1807/1807 [==============================] - 5s 3ms/step - loss: 0.0611 - accuracy: 0.9899 - val_loss: 0.0367 - val_accuracy: 0.9950\n",
            "Epoch 3/20\n",
            "1807/1807 [==============================] - 5s 3ms/step - loss: 0.0411 - accuracy: 0.9939 - val_loss: 0.0366 - val_accuracy: 0.9947\n",
            "Epoch 4/20\n",
            "1807/1807 [==============================] - 5s 3ms/step - loss: 0.0452 - accuracy: 0.9928 - val_loss: 0.0646 - val_accuracy: 0.9887\n",
            "Epoch 5/20\n",
            "1807/1807 [==============================] - 5s 3ms/step - loss: 0.0492 - accuracy: 0.9925 - val_loss: 0.0546 - val_accuracy: 0.9914\n",
            "Epoch 6/20\n",
            "1807/1807 [==============================] - 5s 3ms/step - loss: 0.0533 - accuracy: 0.9915 - val_loss: 0.0372 - val_accuracy: 0.9947\n",
            "Epoch 7/20\n",
            "1807/1807 [==============================] - 5s 3ms/step - loss: 0.0397 - accuracy: 0.9941 - val_loss: 0.0656 - val_accuracy: 0.9887\n",
            "Epoch 8/20\n",
            "1807/1807 [==============================] - 5s 3ms/step - loss: 0.0589 - accuracy: 0.9904 - val_loss: 0.0581 - val_accuracy: 0.9914\n",
            "Epoch 9/20\n",
            "1807/1807 [==============================] - 5s 3ms/step - loss: 0.0687 - accuracy: 0.9883 - val_loss: 0.0577 - val_accuracy: 0.9907\n",
            "Epoch 10/20\n",
            "1807/1807 [==============================] - 5s 3ms/step - loss: 0.0448 - accuracy: 0.9931 - val_loss: 0.0438 - val_accuracy: 0.9937\n",
            "Epoch 11/20\n",
            "1807/1807 [==============================] - 5s 3ms/step - loss: 0.0474 - accuracy: 0.9928 - val_loss: 0.0991 - val_accuracy: 0.9831\n",
            "Epoch 12/20\n",
            "1807/1807 [==============================] - 5s 3ms/step - loss: 0.0569 - accuracy: 0.9908 - val_loss: 0.0491 - val_accuracy: 0.9920\n",
            "Epoch 13/20\n",
            "1807/1807 [==============================] - 5s 3ms/step - loss: 0.0586 - accuracy: 0.9908 - val_loss: 0.0728 - val_accuracy: 0.9880\n",
            "Epoch 14/20\n",
            "1807/1807 [==============================] - 5s 3ms/step - loss: 0.0574 - accuracy: 0.9905 - val_loss: 0.0466 - val_accuracy: 0.9934\n",
            "Epoch 15/20\n",
            "1807/1807 [==============================] - 5s 3ms/step - loss: 0.0763 - accuracy: 0.9875 - val_loss: 0.0632 - val_accuracy: 0.9900\n",
            "Epoch 16/20\n",
            "1807/1807 [==============================] - 5s 3ms/step - loss: 0.0687 - accuracy: 0.9885 - val_loss: 0.0784 - val_accuracy: 0.9870\n",
            "Epoch 17/20\n",
            "1807/1807 [==============================] - 5s 3ms/step - loss: 0.0581 - accuracy: 0.9906 - val_loss: 0.0708 - val_accuracy: 0.9880\n",
            "Epoch 18/20\n",
            "1807/1807 [==============================] - 5s 3ms/step - loss: 0.0565 - accuracy: 0.9910 - val_loss: 0.0572 - val_accuracy: 0.9910\n",
            "Epoch 19/20\n",
            "1807/1807 [==============================] - 5s 3ms/step - loss: 0.0477 - accuracy: 0.9927 - val_loss: 0.0486 - val_accuracy: 0.9927\n",
            "Epoch 20/20\n",
            "1807/1807 [==============================] - 5s 3ms/step - loss: 0.0419 - accuracy: 0.9937 - val_loss: 0.0682 - val_accuracy: 0.9890\n"
          ],
          "name": "stdout"
        }
      ]
    },
    {
      "cell_type": "code",
      "metadata": {
        "id": "6CRsgUMZ4tQy",
        "colab_type": "code",
        "colab": {
          "base_uri": "https://localhost:8080/",
          "height": 295
        },
        "outputId": "e936de43-7e24-4a4e-bfe4-820ffdea204f"
      },
      "source": [
        "# summarize history for accuracy\n",
        "plt.plot(history_newmodel.history['accuracy'])\n",
        "plt.plot(history_newmodel.history['val_accuracy'])\n",
        "plt.title('model accuracy')\n",
        "plt.ylabel('accuracy')\n",
        "plt.xlabel('epoch')\n",
        "plt.legend(['train', 'test'], loc='upper left')\n",
        "plt.show()"
      ],
      "execution_count": 59,
      "outputs": [
        {
          "output_type": "display_data",
          "data": {
            "image/png": "[encoded data removed]",
            "text/plain": [
              "<Figure size 432x288 with 1 Axes>"
            ]
          },
          "metadata": {
            "tags": [],
            "needs_background": "light"
          }
        }
      ]
    },
    {
      "cell_type": "markdown",
      "metadata": {
        "id": "hXPnIK_H5lnt",
        "colab_type": "text"
      },
      "source": [
        "3. replacing (or reinitializing) multiple top layers"
      ]
    },
    {
      "cell_type": "code",
      "metadata": {
        "id": "5DIYCkHG65ii",
        "colab_type": "code",
        "colab": {}
      },
      "source": [
        "def create_model():\n",
        "    model = Sequential()\n",
        "    \n",
        "    model.add(Conv2D(28, kernel_size=(3,3), activation='relu', input_shape=input_shape))\n",
        "    model.add(MaxPooling2D(pool_size=(2, 2)))\n",
        "    model.add(Conv2D(filters=64, kernel_size=(3,3), activation='relu', padding='same'))\n",
        "    model.add(MaxPooling2D(pool_size=(2,2)))\n",
        "    model.add(Conv2D(filters=64, kernel_size=(3,3), activation='relu', padding='same'))\n",
        "    model.add(Flatten()) # Flattening the 2D arrays for fully connected layers\n",
        "    model.add(Dense(128, activation='relu'))\n",
        "    model.add(Dropout(0.2))\n",
        "    model.add(Dense(num_digits_to_classify,activation='softmax'))\n",
        "\n",
        "    model.compile(optimizer='adam', \n",
        "                  loss='sparse_categorical_crossentropy', \n",
        "                  metrics=['accuracy'])\n",
        "    return model\n",
        "\n",
        "model = create_model()\n",
        "#model.summary()"
      ],
      "execution_count": 73,
      "outputs": []
    },
    {
      "cell_type": "code",
      "metadata": {
        "id": "RU2SkqtqEmsc",
        "colab_type": "code",
        "colab": {
          "base_uri": "https://localhost:8080/",
          "height": 1000
        },
        "outputId": "8b5f83e1-79d9-4243-b80a-6bd2ad46d0ab"
      },
      "source": [
        "model.fit(x=x_train06,y=y_train06, epochs=20)\n",
        "history_model = model.fit(x_train06, y_train06, epochs=20, batch_size=10, validation_data=(x_test06, y_test06), shuffle=True)"
      ],
      "execution_count": 74,
      "outputs": [
        {
          "output_type": "stream",
          "text": [
            "Epoch 1/20\n",
            "1311/1311 [==============================] - 4s 3ms/step - loss: 0.0893 - accuracy: 0.9726\n",
            "Epoch 2/20\n",
            "1311/1311 [==============================] - 4s 3ms/step - loss: 0.0270 - accuracy: 0.9918\n",
            "Epoch 3/20\n",
            "1311/1311 [==============================] - 4s 3ms/step - loss: 0.0198 - accuracy: 0.9937\n",
            "Epoch 4/20\n",
            "1311/1311 [==============================] - 4s 3ms/step - loss: 0.0146 - accuracy: 0.9958\n",
            "Epoch 5/20\n",
            "1311/1311 [==============================] - 4s 3ms/step - loss: 0.0125 - accuracy: 0.9959\n",
            "Epoch 6/20\n",
            "1311/1311 [==============================] - 4s 3ms/step - loss: 0.0103 - accuracy: 0.9966\n",
            "Epoch 7/20\n",
            "1311/1311 [==============================] - 4s 3ms/step - loss: 0.0093 - accuracy: 0.9969\n",
            "Epoch 8/20\n",
            "1311/1311 [==============================] - 4s 3ms/step - loss: 0.0065 - accuracy: 0.9977\n",
            "Epoch 9/20\n",
            "1311/1311 [==============================] - 4s 3ms/step - loss: 0.0065 - accuracy: 0.9980\n",
            "Epoch 10/20\n",
            "1311/1311 [==============================] - 4s 3ms/step - loss: 0.0055 - accuracy: 0.9983\n",
            "Epoch 11/20\n",
            "1311/1311 [==============================] - 4s 3ms/step - loss: 0.0038 - accuracy: 0.9987\n",
            "Epoch 12/20\n",
            "1311/1311 [==============================] - 4s 3ms/step - loss: 0.0051 - accuracy: 0.9984\n",
            "Epoch 13/20\n",
            "1311/1311 [==============================] - 4s 3ms/step - loss: 0.0051 - accuracy: 0.9984\n",
            "Epoch 14/20\n",
            "1311/1311 [==============================] - 4s 3ms/step - loss: 0.0037 - accuracy: 0.9989\n",
            "Epoch 15/20\n",
            "1311/1311 [==============================] - 4s 3ms/step - loss: 0.0039 - accuracy: 0.9990\n",
            "Epoch 16/20\n",
            "1311/1311 [==============================] - 4s 3ms/step - loss: 0.0038 - accuracy: 0.9990\n",
            "Epoch 17/20\n",
            "1311/1311 [==============================] - 4s 3ms/step - loss: 0.0046 - accuracy: 0.9989\n",
            "Epoch 18/20\n",
            "1311/1311 [==============================] - 4s 3ms/step - loss: 0.0026 - accuracy: 0.9992\n",
            "Epoch 19/20\n",
            "1311/1311 [==============================] - 4s 3ms/step - loss: 0.0052 - accuracy: 0.9987\n",
            "Epoch 20/20\n",
            "1311/1311 [==============================] - 4s 3ms/step - loss: 0.0038 - accuracy: 0.9989\n",
            "Epoch 1/20\n",
            "4194/4194 [==============================] - 13s 3ms/step - loss: 0.0123 - accuracy: 0.9969 - val_loss: 0.0356 - val_accuracy: 0.9910\n",
            "Epoch 2/20\n",
            "4194/4194 [==============================] - 12s 3ms/step - loss: 0.0095 - accuracy: 0.9975 - val_loss: 0.0260 - val_accuracy: 0.9947\n",
            "Epoch 3/20\n",
            "4194/4194 [==============================] - 13s 3ms/step - loss: 0.0072 - accuracy: 0.9981 - val_loss: 0.0354 - val_accuracy: 0.9941\n",
            "Epoch 4/20\n",
            "4194/4194 [==============================] - 13s 3ms/step - loss: 0.0076 - accuracy: 0.9981 - val_loss: 0.0322 - val_accuracy: 0.9953\n",
            "Epoch 5/20\n",
            "4194/4194 [==============================] - 13s 3ms/step - loss: 0.0081 - accuracy: 0.9981 - val_loss: 0.0310 - val_accuracy: 0.9950\n",
            "Epoch 6/20\n",
            "4194/4194 [==============================] - 13s 3ms/step - loss: 0.0061 - accuracy: 0.9986 - val_loss: 0.0449 - val_accuracy: 0.9937\n",
            "Epoch 7/20\n",
            "4194/4194 [==============================] - 13s 3ms/step - loss: 0.0090 - accuracy: 0.9979 - val_loss: 0.0331 - val_accuracy: 0.9948\n",
            "Epoch 8/20\n",
            "4194/4194 [==============================] - 13s 3ms/step - loss: 0.0048 - accuracy: 0.9988 - val_loss: 0.0348 - val_accuracy: 0.9943\n",
            "Epoch 9/20\n",
            "4194/4194 [==============================] - 13s 3ms/step - loss: 0.0096 - accuracy: 0.9981 - val_loss: 0.0433 - val_accuracy: 0.9950\n",
            "Epoch 10/20\n",
            "4194/4194 [==============================] - 12s 3ms/step - loss: 0.0071 - accuracy: 0.9987 - val_loss: 0.0466 - val_accuracy: 0.9947\n",
            "Epoch 11/20\n",
            "4194/4194 [==============================] - 13s 3ms/step - loss: 0.0082 - accuracy: 0.9985 - val_loss: 0.0363 - val_accuracy: 0.9959\n",
            "Epoch 12/20\n",
            "4194/4194 [==============================] - 12s 3ms/step - loss: 0.0057 - accuracy: 0.9989 - val_loss: 0.0429 - val_accuracy: 0.9956\n",
            "Epoch 13/20\n",
            "4194/4194 [==============================] - 12s 3ms/step - loss: 0.0071 - accuracy: 0.9986 - val_loss: 0.0582 - val_accuracy: 0.9940\n",
            "Epoch 14/20\n",
            "4194/4194 [==============================] - 12s 3ms/step - loss: 0.0075 - accuracy: 0.9986 - val_loss: 0.0747 - val_accuracy: 0.9921\n",
            "Epoch 15/20\n",
            "4194/4194 [==============================] - 13s 3ms/step - loss: 0.0075 - accuracy: 0.9984 - val_loss: 0.0615 - val_accuracy: 0.9954\n",
            "Epoch 16/20\n",
            "4194/4194 [==============================] - 12s 3ms/step - loss: 0.0081 - accuracy: 0.9986 - val_loss: 0.0661 - val_accuracy: 0.9951\n",
            "Epoch 17/20\n",
            "4194/4194 [==============================] - 12s 3ms/step - loss: 0.0082 - accuracy: 0.9988 - val_loss: 0.0782 - val_accuracy: 0.9926\n",
            "Epoch 18/20\n",
            "4194/4194 [==============================] - 12s 3ms/step - loss: 0.0103 - accuracy: 0.9984 - val_loss: 0.0560 - val_accuracy: 0.9957\n",
            "Epoch 19/20\n",
            "4194/4194 [==============================] - 12s 3ms/step - loss: 0.0050 - accuracy: 0.9992 - val_loss: 0.0494 - val_accuracy: 0.9951\n",
            "Epoch 20/20\n",
            "4194/4194 [==============================] - 12s 3ms/step - loss: 0.0078 - accuracy: 0.9989 - val_loss: 0.0573 - val_accuracy: 0.9964\n"
          ],
          "name": "stdout"
        }
      ]
    },
    {
      "cell_type": "code",
      "metadata": {
        "id": "AKM3_ZMsErZL",
        "colab_type": "code",
        "colab": {}
      },
      "source": [
        "target_train_mask79 = np.isin(y_train,[7,8,9])\n",
        "target_test_mask79 = np.isin(y_test,[7,8,9])\n",
        "\n",
        "\n",
        "x_train79, y_train79 = x_train[target_train_mask79], y_train[target_train_mask79]\n",
        "x_test79, y_test79 = x_test[target_test_mask79], y_test[target_test_mask79]\n",
        "\n",
        "\n",
        "\n",
        "x_train79 = x_train79.reshape(x_train79.shape[0], 28, 28, 1)\n",
        "x_test79 = x_test79.reshape(x_test79.shape[0], 28, 28, 1)\n",
        "input_shape = (28, 28, 1)\n",
        "# Making sure that the values are float so that we can get decimal points after division\n",
        "x_train79 = x_train79.astype('float32')\n",
        "x_test79 = x_test79.astype('float32')\n",
        "# Normalizing the RGB codes by dividing it to the max RGB value.\n",
        "x_train79 /= 255\n",
        "x_test79 /= 255\n",
        "\n",
        "y_train79 -= 7\n",
        "y_test79 -= 7"
      ],
      "execution_count": 75,
      "outputs": []
    },
    {
      "cell_type": "code",
      "metadata": {
        "id": "Gm_Zkv_HEjoy",
        "colab_type": "code",
        "colab": {
          "base_uri": "https://localhost:8080/",
          "height": 1000
        },
        "outputId": "085dae30-392d-4608-fe9e-d497f271e854"
      },
      "source": [
        "# Replace multiple layers\n",
        "newModel = Model(inputs=model.inputs, outputs=model.layers[-4].output)\n",
        "\n",
        "\n",
        "flat1 = Flatten()(model.layers[-1].output)\n",
        "#class1 = Dense(1024, activation='relu')(flat1)\n",
        "output = Dense(3, activation='softmax')(flat1)\n",
        "# define new model\n",
        "newModel = Model(inputs=model.inputs, outputs=output)\n",
        "\n",
        "newModel.compile(optimizer='adam', \n",
        "                  loss='sparse_categorical_crossentropy', \n",
        "                  metrics=['accuracy'])\n",
        "\n",
        "newModel.fit(x=x_train79,y=y_train79, epochs=20)\n",
        "history_newmodel = newModel.fit(x_train79, y_train79, epochs=20, batch_size=10,validation_data=(x_test79, y_test79), shuffle=True)"
      ],
      "execution_count": 76,
      "outputs": [
        {
          "output_type": "stream",
          "text": [
            "Epoch 1/20\n",
            "565/565 [==============================] - 2s 3ms/step - loss: 0.6581 - accuracy: 0.9226\n",
            "Epoch 2/20\n",
            "565/565 [==============================] - 2s 3ms/step - loss: 0.2899 - accuracy: 0.9828\n",
            "Epoch 3/20\n",
            "565/565 [==============================] - 2s 3ms/step - loss: 0.1751 - accuracy: 0.9856\n",
            "Epoch 4/20\n",
            "565/565 [==============================] - 2s 3ms/step - loss: 0.1242 - accuracy: 0.9872\n",
            "Epoch 5/20\n",
            "565/565 [==============================] - 2s 3ms/step - loss: 0.0928 - accuracy: 0.9895\n",
            "Epoch 6/20\n",
            "565/565 [==============================] - 2s 3ms/step - loss: 0.0747 - accuracy: 0.9910\n",
            "Epoch 7/20\n",
            "565/565 [==============================] - 2s 3ms/step - loss: 0.0653 - accuracy: 0.9909\n",
            "Epoch 8/20\n",
            "565/565 [==============================] - 2s 3ms/step - loss: 0.0558 - accuracy: 0.9921\n",
            "Epoch 9/20\n",
            "565/565 [==============================] - 2s 3ms/step - loss: 0.0587 - accuracy: 0.9907\n",
            "Epoch 10/20\n",
            "565/565 [==============================] - 2s 3ms/step - loss: 0.0477 - accuracy: 0.9930\n",
            "Epoch 11/20\n",
            "565/565 [==============================] - 2s 3ms/step - loss: 0.0496 - accuracy: 0.9924\n",
            "Epoch 12/20\n",
            "565/565 [==============================] - 2s 3ms/step - loss: 0.0519 - accuracy: 0.9915\n",
            "Epoch 13/20\n",
            "565/565 [==============================] - 2s 3ms/step - loss: 0.0440 - accuracy: 0.9932\n",
            "Epoch 14/20\n",
            "565/565 [==============================] - 2s 3ms/step - loss: 0.0372 - accuracy: 0.9941\n",
            "Epoch 15/20\n",
            "565/565 [==============================] - 2s 3ms/step - loss: 0.0358 - accuracy: 0.9944\n",
            "Epoch 16/20\n",
            "565/565 [==============================] - 2s 3ms/step - loss: 0.0405 - accuracy: 0.9935\n",
            "Epoch 17/20\n",
            "565/565 [==============================] - 2s 3ms/step - loss: 0.0420 - accuracy: 0.9932\n",
            "Epoch 18/20\n",
            "565/565 [==============================] - 2s 3ms/step - loss: 0.0376 - accuracy: 0.9941\n",
            "Epoch 19/20\n",
            "565/565 [==============================] - 2s 3ms/step - loss: 0.0385 - accuracy: 0.9939\n",
            "Epoch 20/20\n",
            "565/565 [==============================] - 2s 3ms/step - loss: 0.0371 - accuracy: 0.9942\n",
            "Epoch 1/20\n",
            "1807/1807 [==============================] - 6s 3ms/step - loss: 0.0475 - accuracy: 0.9924 - val_loss: 0.0545 - val_accuracy: 0.9914\n",
            "Epoch 2/20\n",
            "1807/1807 [==============================] - 5s 3ms/step - loss: 0.0572 - accuracy: 0.9909 - val_loss: 0.0662 - val_accuracy: 0.9887\n",
            "Epoch 3/20\n",
            "1807/1807 [==============================] - 5s 3ms/step - loss: 0.0550 - accuracy: 0.9906 - val_loss: 0.0687 - val_accuracy: 0.9887\n",
            "Epoch 4/20\n",
            "1807/1807 [==============================] - 5s 3ms/step - loss: 0.0547 - accuracy: 0.9910 - val_loss: 0.0671 - val_accuracy: 0.9890\n",
            "Epoch 5/20\n",
            "1807/1807 [==============================] - 5s 3ms/step - loss: 0.0722 - accuracy: 0.9882 - val_loss: 0.0569 - val_accuracy: 0.9907\n",
            "Epoch 6/20\n",
            "1807/1807 [==============================] - 5s 3ms/step - loss: 0.0444 - accuracy: 0.9929 - val_loss: 0.0502 - val_accuracy: 0.9920\n",
            "Epoch 7/20\n",
            "1807/1807 [==============================] - 5s 3ms/step - loss: 0.0426 - accuracy: 0.9934 - val_loss: 0.0522 - val_accuracy: 0.9917\n",
            "Epoch 8/20\n",
            "1807/1807 [==============================] - 5s 3ms/step - loss: 0.0548 - accuracy: 0.9907 - val_loss: 0.0820 - val_accuracy: 0.9824\n",
            "Epoch 9/20\n",
            "1807/1807 [==============================] - 5s 3ms/step - loss: 0.0561 - accuracy: 0.9900 - val_loss: 0.0553 - val_accuracy: 0.9907\n",
            "Epoch 10/20\n",
            "1807/1807 [==============================] - 5s 3ms/step - loss: 0.0418 - accuracy: 0.9935 - val_loss: 0.0412 - val_accuracy: 0.9937\n",
            "Epoch 11/20\n",
            "1807/1807 [==============================] - 5s 3ms/step - loss: 0.0642 - accuracy: 0.9887 - val_loss: 0.0585 - val_accuracy: 0.9900\n",
            "Epoch 12/20\n",
            "1807/1807 [==============================] - 5s 3ms/step - loss: 0.0418 - accuracy: 0.9932 - val_loss: 0.0386 - val_accuracy: 0.9944\n",
            "Epoch 13/20\n",
            "1807/1807 [==============================] - 5s 3ms/step - loss: 0.0528 - accuracy: 0.9910 - val_loss: 0.0627 - val_accuracy: 0.9890\n",
            "Epoch 14/20\n",
            "1807/1807 [==============================] - 5s 3ms/step - loss: 0.0712 - accuracy: 0.9867 - val_loss: 0.0525 - val_accuracy: 0.9927\n",
            "Epoch 15/20\n",
            "1807/1807 [==============================] - 5s 3ms/step - loss: 0.0673 - accuracy: 0.9888 - val_loss: 0.0482 - val_accuracy: 0.9924\n",
            "Epoch 16/20\n",
            "1807/1807 [==============================] - 5s 3ms/step - loss: 0.0648 - accuracy: 0.9888 - val_loss: 0.0458 - val_accuracy: 0.9927\n",
            "Epoch 17/20\n",
            "1807/1807 [==============================] - 5s 3ms/step - loss: 0.0606 - accuracy: 0.9898 - val_loss: 0.0581 - val_accuracy: 0.9904\n",
            "Epoch 18/20\n",
            "1807/1807 [==============================] - 5s 3ms/step - loss: 0.0539 - accuracy: 0.9913 - val_loss: 0.0436 - val_accuracy: 0.9937\n",
            "Epoch 19/20\n",
            "1807/1807 [==============================] - 5s 3ms/step - loss: 0.0811 - accuracy: 0.9851 - val_loss: 0.1335 - val_accuracy: 0.9714\n",
            "Epoch 20/20\n",
            "1807/1807 [==============================] - 5s 3ms/step - loss: 0.0616 - accuracy: 0.9891 - val_loss: 0.0405 - val_accuracy: 0.9940\n"
          ],
          "name": "stdout"
        }
      ]
    },
    {
      "cell_type": "code",
      "metadata": {
        "id": "DVWtRNSaGL64",
        "colab_type": "code",
        "colab": {
          "base_uri": "https://localhost:8080/",
          "height": 295
        },
        "outputId": "f1d448ef-1818-41df-f541-8e8f0146c748"
      },
      "source": [
        "# summarize history for accuracy\n",
        "plt.plot(history_newmodel.history['accuracy'])\n",
        "plt.plot(history_newmodel.history['val_accuracy'])\n",
        "plt.title('model accuracy')\n",
        "plt.ylabel('accuracy')\n",
        "plt.xlabel('epoch')\n",
        "plt.legend(['train', 'test'], loc='upper left')\n",
        "plt.show()"
      ],
      "execution_count": 77,
      "outputs": [
        {
          "output_type": "display_data",
          "data": {
            "image/png": "[encoded data removed]",
            "text/plain": [
              "<Figure size 432x288 with 1 Axes>"
            ]
          },
          "metadata": {
            "tags": [],
            "needs_background": "light"
          }
        }
      ]
    },
    {
      "cell_type": "markdown",
      "metadata": {
        "id": "eN-T9tXJ6pO7",
        "colab_type": "text"
      },
      "source": [
        "4. Replacing the source classification layer by multiple new ones for the target domain."
      ]
    },
    {
      "cell_type": "code",
      "metadata": {
        "id": "6SFELmCz9m_H",
        "colab_type": "code",
        "colab": {}
      },
      "source": [
        "def create_model():\n",
        "    model = Sequential()\n",
        "    \n",
        "    model.add(Conv2D(28, kernel_size=(3,3), activation='relu', input_shape=input_shape))\n",
        "    model.add(MaxPooling2D(pool_size=(2, 2)))\n",
        "    model.add(Conv2D(filters=64, kernel_size=(3,3), activation='relu', padding='same'))\n",
        "    model.add(MaxPooling2D(pool_size=(2,2)))\n",
        "    model.add(Conv2D(filters=64, kernel_size=(3,3), activation='relu', padding='same'))\n",
        "    model.add(Flatten()) # Flattening the 2D arrays for fully connected layers\n",
        "    model.add(Dense(128, activation='relu'))\n",
        "    model.add(Dropout(0.2))\n",
        "    model.add(Dense(num_digits_to_classify,activation='softmax'))\n",
        "\n",
        "    model.compile(optimizer='adam', \n",
        "                  loss='sparse_categorical_crossentropy', \n",
        "                  metrics=['accuracy'])\n",
        "    return model\n",
        "\n",
        "model = create_model()\n",
        "#model.summary()"
      ],
      "execution_count": 65,
      "outputs": []
    },
    {
      "cell_type": "code",
      "metadata": {
        "id": "huGRPaa498wx",
        "colab_type": "code",
        "colab": {
          "base_uri": "https://localhost:8080/",
          "height": 1000
        },
        "outputId": "e1af7074-2b20-4d70-f05c-c925b08590e5"
      },
      "source": [
        "model.fit(x=x_train06,y=y_train06, epochs=20)\n",
        "history_model = model.fit(x_train06, y_train06, epochs=20, batch_size=10, validation_data=(x_test06, y_test06), shuffle=True)"
      ],
      "execution_count": 66,
      "outputs": [
        {
          "output_type": "stream",
          "text": [
            "Epoch 1/20\n",
            "1311/1311 [==============================] - 4s 3ms/step - loss: 0.0923 - accuracy: 0.9708\n",
            "Epoch 2/20\n",
            "1311/1311 [==============================] - 4s 3ms/step - loss: 0.0270 - accuracy: 0.9913\n",
            "Epoch 3/20\n",
            "1311/1311 [==============================] - 4s 3ms/step - loss: 0.0184 - accuracy: 0.9942\n",
            "Epoch 4/20\n",
            "1311/1311 [==============================] - 4s 3ms/step - loss: 0.0146 - accuracy: 0.9953\n",
            "Epoch 5/20\n",
            "1311/1311 [==============================] - 4s 3ms/step - loss: 0.0120 - accuracy: 0.9964\n",
            "Epoch 6/20\n",
            "1311/1311 [==============================] - 4s 3ms/step - loss: 0.0099 - accuracy: 0.9967\n",
            "Epoch 7/20\n",
            "1311/1311 [==============================] - 4s 3ms/step - loss: 0.0073 - accuracy: 0.9974\n",
            "Epoch 8/20\n",
            "1311/1311 [==============================] - 4s 3ms/step - loss: 0.0083 - accuracy: 0.9976\n",
            "Epoch 9/20\n",
            "1311/1311 [==============================] - 4s 3ms/step - loss: 0.0060 - accuracy: 0.9981\n",
            "Epoch 10/20\n",
            "1311/1311 [==============================] - 4s 3ms/step - loss: 0.0053 - accuracy: 0.9986\n",
            "Epoch 11/20\n",
            "1311/1311 [==============================] - 4s 3ms/step - loss: 0.0062 - accuracy: 0.9979\n",
            "Epoch 12/20\n",
            "1311/1311 [==============================] - 4s 3ms/step - loss: 0.0050 - accuracy: 0.9985\n",
            "Epoch 13/20\n",
            "1311/1311 [==============================] - 4s 3ms/step - loss: 0.0041 - accuracy: 0.9987\n",
            "Epoch 14/20\n",
            "1311/1311 [==============================] - 4s 3ms/step - loss: 0.0050 - accuracy: 0.9983\n",
            "Epoch 15/20\n",
            "1311/1311 [==============================] - 4s 3ms/step - loss: 0.0019 - accuracy: 0.9995\n",
            "Epoch 16/20\n",
            "1311/1311 [==============================] - 4s 3ms/step - loss: 0.0062 - accuracy: 0.9983\n",
            "Epoch 17/20\n",
            "1311/1311 [==============================] - 4s 3ms/step - loss: 0.0028 - accuracy: 0.9989\n",
            "Epoch 18/20\n",
            "1311/1311 [==============================] - 4s 3ms/step - loss: 0.0033 - accuracy: 0.9990\n",
            "Epoch 19/20\n",
            "1311/1311 [==============================] - 4s 3ms/step - loss: 0.0057 - accuracy: 0.9985\n",
            "Epoch 20/20\n",
            "1311/1311 [==============================] - 4s 3ms/step - loss: 0.0032 - accuracy: 0.9990\n",
            "Epoch 1/20\n",
            "4194/4194 [==============================] - 12s 3ms/step - loss: 0.0113 - accuracy: 0.9970 - val_loss: 0.0265 - val_accuracy: 0.9947\n",
            "Epoch 2/20\n",
            "4194/4194 [==============================] - 12s 3ms/step - loss: 0.0088 - accuracy: 0.9977 - val_loss: 0.0333 - val_accuracy: 0.9947\n",
            "Epoch 3/20\n",
            "4194/4194 [==============================] - 12s 3ms/step - loss: 0.0098 - accuracy: 0.9976 - val_loss: 0.0301 - val_accuracy: 0.9938\n",
            "Epoch 4/20\n",
            "4194/4194 [==============================] - 12s 3ms/step - loss: 0.0089 - accuracy: 0.9977 - val_loss: 0.0398 - val_accuracy: 0.9950\n",
            "Epoch 5/20\n",
            "4194/4194 [==============================] - 12s 3ms/step - loss: 0.0073 - accuracy: 0.9982 - val_loss: 0.0423 - val_accuracy: 0.9931\n",
            "Epoch 6/20\n",
            "4194/4194 [==============================] - 12s 3ms/step - loss: 0.0112 - accuracy: 0.9980 - val_loss: 0.0313 - val_accuracy: 0.9957\n",
            "Epoch 7/20\n",
            "4194/4194 [==============================] - 12s 3ms/step - loss: 0.0070 - accuracy: 0.9982 - val_loss: 0.0385 - val_accuracy: 0.9937\n",
            "Epoch 8/20\n",
            "4194/4194 [==============================] - 12s 3ms/step - loss: 0.0113 - accuracy: 0.9983 - val_loss: 0.0364 - val_accuracy: 0.9943\n",
            "Epoch 9/20\n",
            "4194/4194 [==============================] - 12s 3ms/step - loss: 0.0077 - accuracy: 0.9984 - val_loss: 0.0427 - val_accuracy: 0.9937\n",
            "Epoch 10/20\n",
            "4194/4194 [==============================] - 12s 3ms/step - loss: 0.0077 - accuracy: 0.9983 - val_loss: 0.0239 - val_accuracy: 0.9961\n",
            "Epoch 11/20\n",
            "4194/4194 [==============================] - 12s 3ms/step - loss: 0.0068 - accuracy: 0.9987 - val_loss: 0.0481 - val_accuracy: 0.9940\n",
            "Epoch 12/20\n",
            "4194/4194 [==============================] - 12s 3ms/step - loss: 0.0079 - accuracy: 0.9984 - val_loss: 0.0403 - val_accuracy: 0.9954\n",
            "Epoch 13/20\n",
            "4194/4194 [==============================] - 12s 3ms/step - loss: 0.0096 - accuracy: 0.9982 - val_loss: 0.0476 - val_accuracy: 0.9948\n",
            "Epoch 14/20\n",
            "4194/4194 [==============================] - 12s 3ms/step - loss: 0.0055 - accuracy: 0.9987 - val_loss: 0.0921 - val_accuracy: 0.9926\n",
            "Epoch 15/20\n",
            "4194/4194 [==============================] - 12s 3ms/step - loss: 0.0096 - accuracy: 0.9984 - val_loss: 0.0488 - val_accuracy: 0.9950\n",
            "Epoch 16/20\n",
            "4194/4194 [==============================] - 12s 3ms/step - loss: 0.0070 - accuracy: 0.9987 - val_loss: 0.0728 - val_accuracy: 0.9941\n",
            "Epoch 17/20\n",
            "4194/4194 [==============================] - 12s 3ms/step - loss: 0.0065 - accuracy: 0.9987 - val_loss: 0.0595 - val_accuracy: 0.9951\n",
            "Epoch 18/20\n",
            "4194/4194 [==============================] - 13s 3ms/step - loss: 0.0092 - accuracy: 0.9986 - val_loss: 0.0640 - val_accuracy: 0.9954\n",
            "Epoch 19/20\n",
            "4194/4194 [==============================] - 12s 3ms/step - loss: 0.0077 - accuracy: 0.9987 - val_loss: 0.0573 - val_accuracy: 0.9954\n",
            "Epoch 20/20\n",
            "4194/4194 [==============================] - 12s 3ms/step - loss: 0.0090 - accuracy: 0.9988 - val_loss: 0.0591 - val_accuracy: 0.9940\n"
          ],
          "name": "stdout"
        }
      ]
    },
    {
      "cell_type": "code",
      "metadata": {
        "id": "GrEmoMNv-zcl",
        "colab_type": "code",
        "colab": {}
      },
      "source": [
        "target_train_mask79 = np.isin(y_train,[7,8,9])\n",
        "target_test_mask79 = np.isin(y_test,[7,8,9])\n",
        "\n",
        "\n",
        "x_train79, y_train79 = x_train[target_train_mask79], y_train[target_train_mask79]\n",
        "x_test79, y_test79 = x_test[target_test_mask79], y_test[target_test_mask79]\n",
        "\n",
        "\n",
        "\n",
        "x_train79 = x_train79.reshape(x_train79.shape[0], 28, 28, 1)\n",
        "x_test79 = x_test79.reshape(x_test79.shape[0], 28, 28, 1)\n",
        "input_shape = (28, 28, 1)\n",
        "# Making sure that the values are float so that we can get decimal points after division\n",
        "x_train79 = x_train79.astype('float32')\n",
        "x_test79 = x_test79.astype('float32')\n",
        "# Normalizing the RGB codes by dividing it to the max RGB value.\n",
        "x_train79 /= 255\n",
        "x_test79 /= 255\n",
        "\n",
        "y_train79 -= 7\n",
        "y_test79 -= 7"
      ],
      "execution_count": 67,
      "outputs": []
    },
    {
      "cell_type": "code",
      "metadata": {
        "id": "i1hyS8yeDOQL",
        "colab_type": "code",
        "colab": {
          "base_uri": "https://localhost:8080/",
          "height": 1000
        },
        "outputId": "3eba9290-419b-4f36-8089-dc83c66e57b1"
      },
      "source": [
        "# define new model\n",
        "newModel = Model(inputs=model.inputs, outputs=output)\n",
        "\n",
        "flat1 = Flatten()(model.layers[-1].output)\n",
        "dense1 = Dense(3, activation='relu')(flat1)\n",
        "dense2 = Dense(3, activation='relu')(dense1)\n",
        "#class1 = Dense(1024, activation='relu')(flat1)\n",
        "output = Dense(3, activation='softmax')(dense2)\n",
        "newModel.compile(optimizer='adam', \n",
        "                  loss='sparse_categorical_crossentropy', \n",
        "                  metrics=['accuracy'])\n",
        "\n",
        "newModel.fit(x=x_train79,y=y_train79, epochs=20)\n",
        "history_newmodel = newModel.fit(x_train79, y_train79, epochs=20, batch_size=10,validation_data=(x_test79, y_test79), shuffle=True)"
      ],
      "execution_count": 79,
      "outputs": [
        {
          "output_type": "stream",
          "text": [
            "Epoch 1/20\n",
            "565/565 [==============================] - 2s 3ms/step - loss: 0.0462 - accuracy: 0.9929\n",
            "Epoch 2/20\n",
            "565/565 [==============================] - 2s 3ms/step - loss: 0.0453 - accuracy: 0.9928\n",
            "Epoch 3/20\n",
            "565/565 [==============================] - 2s 3ms/step - loss: 0.0532 - accuracy: 0.9911\n",
            "Epoch 4/20\n",
            "565/565 [==============================] - 2s 3ms/step - loss: 0.0437 - accuracy: 0.9930\n",
            "Epoch 5/20\n",
            "565/565 [==============================] - 2s 3ms/step - loss: 0.0530 - accuracy: 0.9909\n",
            "Epoch 6/20\n",
            "565/565 [==============================] - 2s 3ms/step - loss: 0.0389 - accuracy: 0.9936\n",
            "Epoch 7/20\n",
            "565/565 [==============================] - 2s 3ms/step - loss: 0.0419 - accuracy: 0.9932\n",
            "Epoch 8/20\n",
            "565/565 [==============================] - 2s 3ms/step - loss: 0.0444 - accuracy: 0.9926\n",
            "Epoch 9/20\n",
            "565/565 [==============================] - 2s 3ms/step - loss: 0.0722 - accuracy: 0.9876\n",
            "Epoch 10/20\n",
            "565/565 [==============================] - 2s 3ms/step - loss: 0.0498 - accuracy: 0.9909\n",
            "Epoch 11/20\n",
            "565/565 [==============================] - 2s 3ms/step - loss: 0.0410 - accuracy: 0.9931\n",
            "Epoch 12/20\n",
            "565/565 [==============================] - 2s 3ms/step - loss: 0.0492 - accuracy: 0.9917\n",
            "Epoch 13/20\n",
            "565/565 [==============================] - 2s 3ms/step - loss: 0.0439 - accuracy: 0.9930\n",
            "Epoch 14/20\n",
            "565/565 [==============================] - 2s 3ms/step - loss: 0.0429 - accuracy: 0.9929\n",
            "Epoch 15/20\n",
            "565/565 [==============================] - 2s 3ms/step - loss: 0.0543 - accuracy: 0.9905\n",
            "Epoch 16/20\n",
            "565/565 [==============================] - 2s 3ms/step - loss: 0.0416 - accuracy: 0.9926\n",
            "Epoch 17/20\n",
            "565/565 [==============================] - 2s 3ms/step - loss: 0.0501 - accuracy: 0.9923\n",
            "Epoch 18/20\n",
            "565/565 [==============================] - 2s 3ms/step - loss: 0.0910 - accuracy: 0.9838\n",
            "Epoch 19/20\n",
            "565/565 [==============================] - 2s 3ms/step - loss: 0.0667 - accuracy: 0.9882\n",
            "Epoch 20/20\n",
            "565/565 [==============================] - 2s 3ms/step - loss: 0.0711 - accuracy: 0.9864\n",
            "Epoch 1/20\n",
            "1807/1807 [==============================] - 6s 3ms/step - loss: 0.0728 - accuracy: 0.9862 - val_loss: 0.0620 - val_accuracy: 0.9904\n",
            "Epoch 2/20\n",
            "1807/1807 [==============================] - 6s 3ms/step - loss: 0.0579 - accuracy: 0.9905 - val_loss: 0.0599 - val_accuracy: 0.9907\n",
            "Epoch 3/20\n",
            "1807/1807 [==============================] - 6s 3ms/step - loss: 0.0659 - accuracy: 0.9889 - val_loss: 0.1095 - val_accuracy: 0.9801\n",
            "Epoch 4/20\n",
            "1807/1807 [==============================] - 6s 3ms/step - loss: 0.0846 - accuracy: 0.9843 - val_loss: 0.0838 - val_accuracy: 0.9854\n",
            "Epoch 5/20\n",
            "1807/1807 [==============================] - 6s 3ms/step - loss: 0.0840 - accuracy: 0.9847 - val_loss: 0.2277 - val_accuracy: 0.9522\n",
            "Epoch 6/20\n",
            "1807/1807 [==============================] - 6s 3ms/step - loss: 0.0641 - accuracy: 0.9890 - val_loss: 0.0516 - val_accuracy: 0.9924\n",
            "Epoch 7/20\n",
            "1807/1807 [==============================] - 6s 4ms/step - loss: 0.1083 - accuracy: 0.9792 - val_loss: 0.0626 - val_accuracy: 0.9897\n",
            "Epoch 8/20\n",
            "1807/1807 [==============================] - 6s 3ms/step - loss: 0.0797 - accuracy: 0.9860 - val_loss: 0.0715 - val_accuracy: 0.9874\n",
            "Epoch 9/20\n",
            "1807/1807 [==============================] - 6s 3ms/step - loss: 0.0979 - accuracy: 0.9823 - val_loss: 0.1142 - val_accuracy: 0.9764\n",
            "Epoch 10/20\n",
            "1807/1807 [==============================] - 5s 3ms/step - loss: 0.0949 - accuracy: 0.9820 - val_loss: 0.0592 - val_accuracy: 0.9910\n",
            "Epoch 11/20\n",
            "1807/1807 [==============================] - 5s 3ms/step - loss: 0.1258 - accuracy: 0.9714 - val_loss: 1.2626 - val_accuracy: 0.5839\n",
            "Epoch 12/20\n",
            "1807/1807 [==============================] - 5s 3ms/step - loss: 0.1378 - accuracy: 0.9708 - val_loss: 0.1143 - val_accuracy: 0.9777\n",
            "Epoch 13/20\n",
            "1807/1807 [==============================] - 5s 3ms/step - loss: 0.0668 - accuracy: 0.9889 - val_loss: 0.0802 - val_accuracy: 0.9870\n",
            "Epoch 14/20\n",
            "1807/1807 [==============================] - 5s 3ms/step - loss: 0.0395 - accuracy: 0.9942 - val_loss: 0.0529 - val_accuracy: 0.9920\n",
            "Epoch 15/20\n",
            "1807/1807 [==============================] - 5s 3ms/step - loss: 0.0405 - accuracy: 0.9941 - val_loss: 0.0468 - val_accuracy: 0.9930\n",
            "Epoch 16/20\n",
            "1807/1807 [==============================] - 5s 3ms/step - loss: 0.0399 - accuracy: 0.9941 - val_loss: 0.0635 - val_accuracy: 0.9897\n",
            "Epoch 17/20\n",
            "1807/1807 [==============================] - 5s 3ms/step - loss: 0.0664 - accuracy: 0.9884 - val_loss: 0.0471 - val_accuracy: 0.9927\n",
            "Epoch 18/20\n",
            "1807/1807 [==============================] - 5s 3ms/step - loss: 0.0655 - accuracy: 0.9894 - val_loss: 0.0609 - val_accuracy: 0.9900\n",
            "Epoch 19/20\n",
            "1807/1807 [==============================] - 5s 3ms/step - loss: 0.0555 - accuracy: 0.9911 - val_loss: 0.0534 - val_accuracy: 0.9920\n",
            "Epoch 20/20\n",
            "1807/1807 [==============================] - 5s 3ms/step - loss: 0.0564 - accuracy: 0.9912 - val_loss: 0.0487 - val_accuracy: 0.9927\n"
          ],
          "name": "stdout"
        }
      ]
    },
    {
      "cell_type": "code",
      "metadata": {
        "id": "0rV7jrJ7Locb",
        "colab_type": "code",
        "colab": {
          "base_uri": "https://localhost:8080/",
          "height": 295
        },
        "outputId": "aa6a7778-0e2c-4e0d-e850-abd210b5fcfa"
      },
      "source": [
        "# summarize history for accuracy\n",
        "plt.plot(history_newmodel.history['accuracy'])\n",
        "plt.plot(history_newmodel.history['val_accuracy'])\n",
        "plt.title('model accuracy')\n",
        "plt.ylabel('accuracy')\n",
        "plt.xlabel('epoch')\n",
        "plt.legend(['train', 'test'], loc='upper left')\n",
        "plt.show()"
      ],
      "execution_count": 80,
      "outputs": [
        {
          "output_type": "display_data",
          "data": {
            "image/png": "[encoded data removed]",
            "text/plain": [
              "<Figure size 432x288 with 1 Axes>"
            ]
          },
          "metadata": {
            "tags": [],
            "needs_background": "light"
          }
        }
      ]
    },
    {
      "cell_type": "markdown",
      "metadata": {
        "id": "Zd1s4zx1R2qQ",
        "colab_type": "text"
      },
      "source": [
        "**Comparison of various techniques**\n",
        "1. Freezing all layers: The model did not generalize and accuracy is also dropped significantly.\n",
        "\n",
        "2. Freezing some layers: Accuracy improved compared to the model where all layers are freezed. It also generalized well.\n",
        "\n",
        "3. Replacing Multiple Layers: Generalizes well and accuracy is comparable to the model in which some layers are freezed.\n",
        "\n",
        "4. Replacing source classification layer and adding multiple layers: This model performed very well as compared to all other models. The model is highly generalised and accuracy is also good."
      ]
    }
  ]
}